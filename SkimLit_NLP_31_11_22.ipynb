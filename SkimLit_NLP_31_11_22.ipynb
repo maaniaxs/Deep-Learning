{
  "nbformat": 4,
  "nbformat_minor": 0,
  "metadata": {
    "colab": {
      "provenance": [],
      "authorship_tag": "ABX9TyN4yoYwTjE/XN6C13G++5gJ",
      "include_colab_link": true
    },
    "kernelspec": {
      "name": "python3",
      "display_name": "Python 3"
    },
    "language_info": {
      "name": "python"
    },
    "gpuClass": "standard"
  },
  "cells": [
    {
      "cell_type": "markdown",
      "metadata": {
        "id": "view-in-github",
        "colab_type": "text"
      },
      "source": [
        "<a href=\"https://colab.research.google.com/github/maaniaxs/Deep-Learning/blob/main/SkimLit_NLP_31_11_22.ipynb\" target=\"_parent\"><img src=\"https://colab.research.google.com/assets/colab-badge.svg\" alt=\"Open In Colab\"/></a>"
      ]
    },
    {
      "cell_type": "code",
      "source": [],
      "metadata": {
        "id": "5iGwVX2WcfuR"
      },
      "execution_count": null,
      "outputs": []
    },
    {
      "cell_type": "code",
      "source": [
        "# DOWNLOAD THE DATASET\n",
        "!git clone https://github.com/Franck-Dernoncourt/pubmed-rct\n",
        "!ls pubmed-rct"
      ],
      "metadata": {
        "colab": {
          "base_uri": "https://localhost:8080/"
        },
        "id": "oCCUlvzxcfxg",
        "outputId": "9eb3fd42-72b8-455b-da47-34e022fe86fe"
      },
      "execution_count": null,
      "outputs": [
        {
          "output_type": "stream",
          "name": "stdout",
          "text": [
            "Cloning into 'pubmed-rct'...\n",
            "remote: Enumerating objects: 33, done.\u001b[K\n",
            "remote: Counting objects: 100% (8/8), done.\u001b[K\n",
            "remote: Compressing objects: 100% (3/3), done.\u001b[K\n",
            "remote: Total 33 (delta 5), reused 5 (delta 5), pack-reused 25\u001b[K\n",
            "Unpacking objects: 100% (33/33), done.\n",
            "Checking out files: 100% (13/13), done.\n",
            "PubMed_200k_RCT\n",
            "PubMed_200k_RCT_numbers_replaced_with_at_sign\n",
            "PubMed_20k_RCT\n",
            "PubMed_20k_RCT_numbers_replaced_with_at_sign\n",
            "README.md\n"
          ]
        }
      ]
    },
    {
      "cell_type": "code",
      "source": [
        "# Check what files are in the PubMed_20K dataset \n",
        "!ls pubmed-rct/PubMed_20k_RCT_numbers_replaced_with_at_sign/"
      ],
      "metadata": {
        "colab": {
          "base_uri": "https://localhost:8080/"
        },
        "id": "_BOTj6wDcf0Q",
        "outputId": "97bb68af-a0cf-4bdc-96f8-0af5dbc08138"
      },
      "execution_count": null,
      "outputs": [
        {
          "output_type": "stream",
          "name": "stdout",
          "text": [
            "dev.txt  test.txt  train.txt\n"
          ]
        }
      ]
    },
    {
      "cell_type": "code",
      "source": [
        "# Start by using the 20k dataset\n",
        "data_dir = \"pubmed-rct/PubMed_20k_RCT_numbers_replaced_with_at_sign/\""
      ],
      "metadata": {
        "id": "3HUVSNdQd9cw"
      },
      "execution_count": null,
      "outputs": []
    },
    {
      "cell_type": "code",
      "source": [
        "# Check all of the filenames in the target directory\n",
        "import os\n",
        "filenames = [data_dir + filename for filename in os.listdir(data_dir)]\n",
        "filenames"
      ],
      "metadata": {
        "colab": {
          "base_uri": "https://localhost:8080/"
        },
        "id": "Eyaf_OaPd9gQ",
        "outputId": "665732a5-b9b4-46dd-c81f-60c4b85aca83"
      },
      "execution_count": null,
      "outputs": [
        {
          "output_type": "execute_result",
          "data": {
            "text/plain": [
              "['pubmed-rct/PubMed_20k_RCT_numbers_replaced_with_at_sign/test.txt',\n",
              " 'pubmed-rct/PubMed_20k_RCT_numbers_replaced_with_at_sign/train.txt',\n",
              " 'pubmed-rct/PubMed_20k_RCT_numbers_replaced_with_at_sign/dev.txt']"
            ]
          },
          "metadata": {},
          "execution_count": 4
        }
      ]
    },
    {
      "cell_type": "markdown",
      "source": [
        "#\n",
        "# Preprocess data"
      ],
      "metadata": {
        "id": "8rUAENQ9d9jS"
      }
    },
    {
      "cell_type": "code",
      "source": [
        "# Create function to read the lines of a document\n",
        "def get_lines(filename):\n",
        "  \"\"\"\n",
        "  Reads a text file and returns the lines of text as a list.\"\"\"\n",
        "  with open(filename, \"r\") as f:\n",
        "    return f.readlines()"
      ],
      "metadata": {
        "id": "LxMTwB0md9mQ"
      },
      "execution_count": null,
      "outputs": []
    },
    {
      "cell_type": "code",
      "source": [
        "# let's the train text lines\n",
        "train_lines = get_lines(data_dir+\"train.txt\")\n",
        "train_lines[:3], len(train_lines)  # count the length of the sentences"
      ],
      "metadata": {
        "colab": {
          "base_uri": "https://localhost:8080/"
        },
        "id": "Xu0y_H2Sd9pR",
        "outputId": "5e6c74fc-ebcc-4ad6-a482-c6f8d625be2a"
      },
      "execution_count": null,
      "outputs": [
        {
          "output_type": "execute_result",
          "data": {
            "text/plain": [
              "(['###24293578\\n',\n",
              "  'OBJECTIVE\\tTo investigate the efficacy of @ weeks of daily low-dose oral prednisolone in improving pain , mobility , and systemic low-grade inflammation in the short term and whether the effect would be sustained at @ weeks in older adults with moderate to severe knee osteoarthritis ( OA ) .\\n',\n",
              "  'METHODS\\tA total of @ patients with primary knee OA were randomized @:@ ; @ received @ mg/day of prednisolone and @ received placebo for @ weeks .\\n'],\n",
              " 210040)"
            ]
          },
          "metadata": {},
          "execution_count": 6
        }
      ]
    },
    {
      "cell_type": "code",
      "source": [
        "def preprocess_text_with_line_numbers(filename):\n",
        "  \"\"\"Returns a list of dictionaries of abstract line data for making a dataframe of this text data\"\"\"\n",
        "  \n",
        "  input_lines = get_lines(filename) # get all lines from filename\n",
        "  abstract_lines = \"\" # create an empty abstract\n",
        "  abstract_samples = [] # create an empty list of abstracts\n",
        "  \n",
        "  # Loop through each line in target file\n",
        "  for line in input_lines:\n",
        "    if line.startswith(\"###\"): # check to see if line is an ID line\n",
        "      abstract_id = line\n",
        "      abstract_lines = \"\" # reset abstract string\n",
        "    elif line.isspace(): # check to see if line is a new line\n",
        "      abstract_line_split = abstract_lines.splitlines() # split abstract into separate lines\n",
        "\n",
        "      # Iterate through each line in abstract and count them at the same time\n",
        "      for abstract_line_number, abstract_line in enumerate(abstract_line_split):\n",
        "        line_data = {} # create empty dict to store data from line\n",
        "        target_text_split = abstract_line.split(\"\\t\") # split target label from text\n",
        "        line_data[\"target\"] = target_text_split[0] # get target label\n",
        "        line_data[\"text\"] = target_text_split[1].lower() # get target text and lower it\n",
        "        line_data[\"line_number\"] = abstract_line_number # what number line does the line appear in the abstract?\n",
        "        line_data[\"total_lines\"] = len(abstract_line_split) - 1 # how many total lines are in the abstract? (start from 0)\n",
        "        abstract_samples.append(line_data) # add line data to abstract samples list\n",
        "    \n",
        "    else: # if the above conditions aren't fulfilled, the line contains a labelled sentence\n",
        "      abstract_lines += line\n",
        "  \n",
        "  return abstract_samples"
      ],
      "metadata": {
        "id": "mSaGtEM9n7C8"
      },
      "execution_count": null,
      "outputs": []
    },
    {
      "cell_type": "code",
      "source": [
        "# Get data from file and preprocess it\n",
        "%%time\n",
        "train_samples = preprocess_text_with_line_numbers(data_dir + \"train.txt\")\n",
        "val_samples = preprocess_text_with_line_numbers(data_dir + \"dev.txt\") # dev is another name for validation set\n",
        "test_samples = preprocess_text_with_line_numbers(data_dir + \"test.txt\")\n",
        "len(train_samples), len(val_samples), len(test_samples)"
      ],
      "metadata": {
        "colab": {
          "base_uri": "https://localhost:8080/"
        },
        "id": "meOU2LD2n7Xn",
        "outputId": "86845145-d6ae-41f9-e98e-648e87e5ac3c"
      },
      "execution_count": null,
      "outputs": [
        {
          "output_type": "stream",
          "name": "stdout",
          "text": [
            "CPU times: user 484 ms, sys: 110 ms, total: 594 ms\n",
            "Wall time: 597 ms\n"
          ]
        },
        {
          "output_type": "execute_result",
          "data": {
            "text/plain": [
              "(180040, 30212, 30135)"
            ]
          },
          "metadata": {},
          "execution_count": 8
        }
      ]
    },
    {
      "cell_type": "code",
      "source": [
        "# Make a DataFrame \n",
        "import pandas as pd\n",
        "train_df = pd.DataFrame(train_samples)\n",
        "val_df = pd.DataFrame(val_samples)\n",
        "test_df = pd.DataFrame(test_samples)"
      ],
      "metadata": {
        "id": "Pp7XZzwSn8nA"
      },
      "execution_count": null,
      "outputs": []
    },
    {
      "cell_type": "code",
      "source": [
        "train_df.head(7)"
      ],
      "metadata": {
        "colab": {
          "base_uri": "https://localhost:8080/",
          "height": 269
        },
        "id": "kRw_6doFH98T",
        "outputId": "6744a171-622f-4192-eecf-42381b75cdd3"
      },
      "execution_count": null,
      "outputs": [
        {
          "output_type": "execute_result",
          "data": {
            "text/plain": [
              "      target                                               text  line_number  \\\n",
              "0  OBJECTIVE  to investigate the efficacy of @ weeks of dail...            0   \n",
              "1    METHODS  a total of @ patients with primary knee oa wer...            1   \n",
              "2    METHODS  outcome measures included pain reduction and i...            2   \n",
              "3    METHODS  pain was assessed using the visual analog pain...            3   \n",
              "4    METHODS  secondary outcome measures included the wester...            4   \n",
              "5    METHODS  serum levels of interleukin @ ( il-@ ) , il-@ ...            5   \n",
              "6    RESULTS  there was a clinically relevant reduction in t...            6   \n",
              "\n",
              "   total_lines  \n",
              "0           11  \n",
              "1           11  \n",
              "2           11  \n",
              "3           11  \n",
              "4           11  \n",
              "5           11  \n",
              "6           11  "
            ],
            "text/html": [
              "\n",
              "  <div id=\"df-ea7a9c7c-e99b-44b7-947e-920b50bf6d37\">\n",
              "    <div class=\"colab-df-container\">\n",
              "      <div>\n",
              "<style scoped>\n",
              "    .dataframe tbody tr th:only-of-type {\n",
              "        vertical-align: middle;\n",
              "    }\n",
              "\n",
              "    .dataframe tbody tr th {\n",
              "        vertical-align: top;\n",
              "    }\n",
              "\n",
              "    .dataframe thead th {\n",
              "        text-align: right;\n",
              "    }\n",
              "</style>\n",
              "<table border=\"1\" class=\"dataframe\">\n",
              "  <thead>\n",
              "    <tr style=\"text-align: right;\">\n",
              "      <th></th>\n",
              "      <th>target</th>\n",
              "      <th>text</th>\n",
              "      <th>line_number</th>\n",
              "      <th>total_lines</th>\n",
              "    </tr>\n",
              "  </thead>\n",
              "  <tbody>\n",
              "    <tr>\n",
              "      <th>0</th>\n",
              "      <td>OBJECTIVE</td>\n",
              "      <td>to investigate the efficacy of @ weeks of dail...</td>\n",
              "      <td>0</td>\n",
              "      <td>11</td>\n",
              "    </tr>\n",
              "    <tr>\n",
              "      <th>1</th>\n",
              "      <td>METHODS</td>\n",
              "      <td>a total of @ patients with primary knee oa wer...</td>\n",
              "      <td>1</td>\n",
              "      <td>11</td>\n",
              "    </tr>\n",
              "    <tr>\n",
              "      <th>2</th>\n",
              "      <td>METHODS</td>\n",
              "      <td>outcome measures included pain reduction and i...</td>\n",
              "      <td>2</td>\n",
              "      <td>11</td>\n",
              "    </tr>\n",
              "    <tr>\n",
              "      <th>3</th>\n",
              "      <td>METHODS</td>\n",
              "      <td>pain was assessed using the visual analog pain...</td>\n",
              "      <td>3</td>\n",
              "      <td>11</td>\n",
              "    </tr>\n",
              "    <tr>\n",
              "      <th>4</th>\n",
              "      <td>METHODS</td>\n",
              "      <td>secondary outcome measures included the wester...</td>\n",
              "      <td>4</td>\n",
              "      <td>11</td>\n",
              "    </tr>\n",
              "    <tr>\n",
              "      <th>5</th>\n",
              "      <td>METHODS</td>\n",
              "      <td>serum levels of interleukin @ ( il-@ ) , il-@ ...</td>\n",
              "      <td>5</td>\n",
              "      <td>11</td>\n",
              "    </tr>\n",
              "    <tr>\n",
              "      <th>6</th>\n",
              "      <td>RESULTS</td>\n",
              "      <td>there was a clinically relevant reduction in t...</td>\n",
              "      <td>6</td>\n",
              "      <td>11</td>\n",
              "    </tr>\n",
              "  </tbody>\n",
              "</table>\n",
              "</div>\n",
              "      <button class=\"colab-df-convert\" onclick=\"convertToInteractive('df-ea7a9c7c-e99b-44b7-947e-920b50bf6d37')\"\n",
              "              title=\"Convert this dataframe to an interactive table.\"\n",
              "              style=\"display:none;\">\n",
              "        \n",
              "  <svg xmlns=\"http://www.w3.org/2000/svg\" height=\"24px\"viewBox=\"0 0 24 24\"\n",
              "       width=\"24px\">\n",
              "    <path d=\"M0 0h24v24H0V0z\" fill=\"none\"/>\n",
              "    <path d=\"M18.56 5.44l.94 2.06.94-2.06 2.06-.94-2.06-.94-.94-2.06-.94 2.06-2.06.94zm-11 1L8.5 8.5l.94-2.06 2.06-.94-2.06-.94L8.5 2.5l-.94 2.06-2.06.94zm10 10l.94 2.06.94-2.06 2.06-.94-2.06-.94-.94-2.06-.94 2.06-2.06.94z\"/><path d=\"M17.41 7.96l-1.37-1.37c-.4-.4-.92-.59-1.43-.59-.52 0-1.04.2-1.43.59L10.3 9.45l-7.72 7.72c-.78.78-.78 2.05 0 2.83L4 21.41c.39.39.9.59 1.41.59.51 0 1.02-.2 1.41-.59l7.78-7.78 2.81-2.81c.8-.78.8-2.07 0-2.86zM5.41 20L4 18.59l7.72-7.72 1.47 1.35L5.41 20z\"/>\n",
              "  </svg>\n",
              "      </button>\n",
              "      \n",
              "  <style>\n",
              "    .colab-df-container {\n",
              "      display:flex;\n",
              "      flex-wrap:wrap;\n",
              "      gap: 12px;\n",
              "    }\n",
              "\n",
              "    .colab-df-convert {\n",
              "      background-color: #E8F0FE;\n",
              "      border: none;\n",
              "      border-radius: 50%;\n",
              "      cursor: pointer;\n",
              "      display: none;\n",
              "      fill: #1967D2;\n",
              "      height: 32px;\n",
              "      padding: 0 0 0 0;\n",
              "      width: 32px;\n",
              "    }\n",
              "\n",
              "    .colab-df-convert:hover {\n",
              "      background-color: #E2EBFA;\n",
              "      box-shadow: 0px 1px 2px rgba(60, 64, 67, 0.3), 0px 1px 3px 1px rgba(60, 64, 67, 0.15);\n",
              "      fill: #174EA6;\n",
              "    }\n",
              "\n",
              "    [theme=dark] .colab-df-convert {\n",
              "      background-color: #3B4455;\n",
              "      fill: #D2E3FC;\n",
              "    }\n",
              "\n",
              "    [theme=dark] .colab-df-convert:hover {\n",
              "      background-color: #434B5C;\n",
              "      box-shadow: 0px 1px 3px 1px rgba(0, 0, 0, 0.15);\n",
              "      filter: drop-shadow(0px 1px 2px rgba(0, 0, 0, 0.3));\n",
              "      fill: #FFFFFF;\n",
              "    }\n",
              "  </style>\n",
              "\n",
              "      <script>\n",
              "        const buttonEl =\n",
              "          document.querySelector('#df-ea7a9c7c-e99b-44b7-947e-920b50bf6d37 button.colab-df-convert');\n",
              "        buttonEl.style.display =\n",
              "          google.colab.kernel.accessAllowed ? 'block' : 'none';\n",
              "\n",
              "        async function convertToInteractive(key) {\n",
              "          const element = document.querySelector('#df-ea7a9c7c-e99b-44b7-947e-920b50bf6d37');\n",
              "          const dataTable =\n",
              "            await google.colab.kernel.invokeFunction('convertToInteractive',\n",
              "                                                     [key], {});\n",
              "          if (!dataTable) return;\n",
              "\n",
              "          const docLinkHtml = 'Like what you see? Visit the ' +\n",
              "            '<a target=\"_blank\" href=https://colab.research.google.com/notebooks/data_table.ipynb>data table notebook</a>'\n",
              "            + ' to learn more about interactive tables.';\n",
              "          element.innerHTML = '';\n",
              "          dataTable['output_type'] = 'display_data';\n",
              "          await google.colab.output.renderOutput(dataTable, element);\n",
              "          const docLink = document.createElement('div');\n",
              "          docLink.innerHTML = docLinkHtml;\n",
              "          element.appendChild(docLink);\n",
              "        }\n",
              "      </script>\n",
              "    </div>\n",
              "  </div>\n",
              "  "
            ]
          },
          "metadata": {},
          "execution_count": 64
        }
      ]
    },
    {
      "cell_type": "code",
      "source": [
        "# Distribution of labels in training data\n",
        "train_df.target.value_counts()"
      ],
      "metadata": {
        "colab": {
          "base_uri": "https://localhost:8080/"
        },
        "id": "vNTAURT2H84U",
        "outputId": "90303358-b7d0-4e2e-bede-27374eeb1c08"
      },
      "execution_count": null,
      "outputs": [
        {
          "output_type": "execute_result",
          "data": {
            "text/plain": [
              "METHODS        59353\n",
              "RESULTS        57953\n",
              "CONCLUSIONS    27168\n",
              "BACKGROUND     21727\n",
              "OBJECTIVE      13839\n",
              "Name: target, dtype: int64"
            ]
          },
          "metadata": {},
          "execution_count": 66
        }
      ]
    },
    {
      "cell_type": "code",
      "source": [
        "# Let's check the length of different lines\n",
        "train_df.total_lines.plot.hist()"
      ],
      "metadata": {
        "colab": {
          "base_uri": "https://localhost:8080/",
          "height": 285
        },
        "id": "yr3668RYHsPW",
        "outputId": "0343d543-8563-4b97-911a-150b36d6a398"
      },
      "execution_count": null,
      "outputs": [
        {
          "output_type": "execute_result",
          "data": {
            "text/plain": [
              "<matplotlib.axes._subplots.AxesSubplot at 0x7f04a865b1f0>"
            ]
          },
          "metadata": {},
          "execution_count": 67
        },
        {
          "output_type": "display_data",
          "data": {
            "text/plain": [
              "<Figure size 432x288 with 1 Axes>"
            ],
            "image/png": "[encoded data removed]"
          },
          "metadata": {
            "needs_background": "light"
          }
        }
      ]
    },
    {
      "cell_type": "code",
      "source": [
        "# Convert abstract text lines into lists\n",
        "train_sentences = train_df['text'][:115000].tolist()\n",
        "val_sentences = val_df['text'][:20000].tolist()\n",
        "test_sentences = test_df['text'][:20000].tolist()\n",
        "len(train_sentences), len(val_sentences), len(test_sentences)"
      ],
      "metadata": {
        "colab": {
          "base_uri": "https://localhost:8080/"
        },
        "id": "9gnLCyYIHsSW",
        "outputId": "ec675997-8b2c-47bc-891c-1d5a3448a185"
      },
      "execution_count": null,
      "outputs": [
        {
          "output_type": "execute_result",
          "data": {
            "text/plain": [
              "(115000, 20000, 20000)"
            ]
          },
          "metadata": {},
          "execution_count": 70
        }
      ]
    },
    {
      "cell_type": "code",
      "source": [
        "# view the 10 lines of training sentences\n",
        "train_sentences[:4]"
      ],
      "metadata": {
        "colab": {
          "base_uri": "https://localhost:8080/"
        },
        "id": "ZZIh8XBKI5CE",
        "outputId": "595af08f-9248-42ca-ab87-0a6c2ca964f3"
      },
      "execution_count": null,
      "outputs": [
        {
          "output_type": "execute_result",
          "data": {
            "text/plain": [
              "['to investigate the efficacy of @ weeks of daily low-dose oral prednisolone in improving pain , mobility , and systemic low-grade inflammation in the short term and whether the effect would be sustained at @ weeks in older adults with moderate to severe knee osteoarthritis ( oa ) .',\n",
              " 'a total of @ patients with primary knee oa were randomized @:@ ; @ received @ mg/day of prednisolone and @ received placebo for @ weeks .',\n",
              " 'outcome measures included pain reduction and improvement in function scores and systemic inflammation markers .',\n",
              " 'pain was assessed using the visual analog pain scale ( @-@ mm ) .']"
            ]
          },
          "metadata": {},
          "execution_count": 71
        }
      ]
    },
    {
      "cell_type": "code",
      "source": [
        "# Make numeric labels (ML models require numeric labels)\n",
        "# one hot encode labels\n",
        "from sklearn.preprocessing import OneHotEncoder\n",
        "one_hot_encoder = OneHotEncoder(sparse=False)\n",
        "train_labels_one_hot = one_hot_encoder.fit_transform(train_df['target'][:115000].to_numpy().reshape(-1,1))\n",
        "# \n",
        "val_labels_one_hot = one_hot_encoder.fit_transform(val_df['target'][:20000].to_numpy().reshape(-1,1))\n",
        "test_labels_one_hot = one_hot_encoder.fit_transform(test_df['target'][:20000].to_numpy().reshape(-1,1))\n",
        "train_labels_one_hot"
      ],
      "metadata": {
        "colab": {
          "base_uri": "https://localhost:8080/"
        },
        "id": "FQG2RSRxI5FM",
        "outputId": "703f7093-b8eb-4965-bd1e-80d7b0825f96"
      },
      "execution_count": null,
      "outputs": [
        {
          "output_type": "execute_result",
          "data": {
            "text/plain": [
              "array([[0., 0., 0., 1., 0.],\n",
              "       [0., 0., 1., 0., 0.],\n",
              "       [0., 0., 1., 0., 0.],\n",
              "       ...,\n",
              "       [0., 0., 0., 0., 1.],\n",
              "       [0., 0., 0., 0., 1.],\n",
              "       [0., 0., 0., 0., 1.]])"
            ]
          },
          "metadata": {},
          "execution_count": 72
        }
      ]
    },
    {
      "cell_type": "markdown",
      "source": [
        "# LabelEncoder"
      ],
      "metadata": {
        "id": "TrWigJf348BO"
      }
    },
    {
      "cell_type": "code",
      "source": [
        "# Extract labels (target columns) and encode them into integers\n",
        "from sklearn.preprocessing import LabelEncoder\n",
        "label_encoded = LabelEncoder()\n",
        "train_labels_encoded = label_encoded.fit_transform(train_df['target'][:115000].to_numpy())\n",
        "val_labels_encoded = label_encoded.fit_transform(val_df['target'][:20000].to_numpy())\n",
        "test_labels_encoded = label_encoded.fit_transform(test_df['target'][:20000].to_numpy())\n",
        "len(train_labels_encoded), train_labels_encoded"
      ],
      "metadata": {
        "colab": {
          "base_uri": "https://localhost:8080/"
        },
        "id": "xBwIJ8hWI5Lg",
        "outputId": "547ef948-b486-438b-a2d3-42cdfe495b25"
      },
      "execution_count": null,
      "outputs": [
        {
          "output_type": "execute_result",
          "data": {
            "text/plain": [
              "(115000, array([3, 2, 2, ..., 4, 4, 4]))"
            ]
          },
          "metadata": {},
          "execution_count": 73
        }
      ]
    },
    {
      "cell_type": "code",
      "source": [
        "# Get classes name and number of classes from LabelEncoder\n",
        "num_classes = len(label_encoded.classes_)\n",
        "class_names = label_encoded.classes_\n",
        "num_classes, class_names"
      ],
      "metadata": {
        "colab": {
          "base_uri": "https://localhost:8080/"
        },
        "id": "jP_xqQhbHsWO",
        "outputId": "d04fe6da-a7ff-443f-a3c2-3d7bbb20b293"
      },
      "execution_count": null,
      "outputs": [
        {
          "output_type": "execute_result",
          "data": {
            "text/plain": [
              "(5, array(['BACKGROUND', 'CONCLUSIONS', 'METHODS', 'OBJECTIVE', 'RESULTS'],\n",
              "       dtype=object))"
            ]
          },
          "metadata": {},
          "execution_count": 74
        }
      ]
    },
    {
      "cell_type": "markdown",
      "source": [
        "# Experiment                       Model\n",
        "*  0            Naive Bayes with TF-IDF encoder(baseline)\n",
        "*  1            Conv1D with token token_embeddings\n",
        "*  2            Tensorflow Hub Pretrained Feature Extracter\n",
        "*  3            Conv1D with character embeddings\n",
        "*  4            Pretrained token embeddings (same as 2) + character embeddings (same as 3)\n",
        "*  5            Pretrained tokenembeddings + character embeddings + positional embeddings"
      ],
      "metadata": {
        "id": "u05KsqjRHsZ_"
      }
    },
    {
      "cell_type": "code",
      "source": [
        "# STARTING A SERIES MODEL EXPERIMENTS"
      ],
      "metadata": {
        "id": "PYWtr1VeOEDW"
      },
      "execution_count": null,
      "outputs": []
    },
    {
      "cell_type": "code",
      "source": [
        "from sklearn.metrics import *\n",
        "def calculate_results(y_true, y_pred):\n",
        "  \"\"\" Returns a dictionary of accuracy, precision, recall, f1-score.\n",
        "  \"\"\"\n",
        "  # Calculate model accuracy\n",
        "  model_accuracy = accuracy_score(y_true, y_pred) * 100\n",
        "  # Calculate model precision, recall and f1 score using \"weighted average\n",
        "  model_precision, model_recall, model_f1, _ = precision_recall_fscore_support(y_true, y_pred, average=\"weighted\")\n",
        "  model_results = {\"accuracy\": model_accuracy,\n",
        "                  \"precision\": model_precision,\n",
        "                  \"recall\": model_recall,\n",
        "                  \"f1\": model_f1}\n",
        "  return model_results"
      ],
      "metadata": {
        "id": "MAtiwQ06T6W9"
      },
      "execution_count": null,
      "outputs": []
    },
    {
      "cell_type": "code",
      "source": [
        "## Model 0: Getting a Baseline\n",
        "from sklearn.feature_extraction.text import TfidfVectorizer\n",
        "from sklearn.naive_bayes import MultinomialNB\n",
        "from sklearn.pipeline import Pipeline"
      ],
      "metadata": {
        "id": "3WvuXS8QOEGp"
      },
      "execution_count": null,
      "outputs": []
    },
    {
      "cell_type": "code",
      "source": [
        "# create a pipeline\n",
        "model_0 = Pipeline([\n",
        "    ('tf_idf', TfidfVectorizer()),\n",
        "    ('clf', MultinomialNB())\n",
        "])\n",
        "# Fit the baseline model_0\n",
        "model_0.fit(X = train_sentences, y=train_labels_encoded)"
      ],
      "metadata": {
        "colab": {
          "base_uri": "https://localhost:8080/"
        },
        "id": "Uf4W40zRHsc5",
        "outputId": "de8c47b7-ddfe-42d4-fb95-fd5cda3b52cb"
      },
      "execution_count": null,
      "outputs": [
        {
          "output_type": "execute_result",
          "data": {
            "text/plain": [
              "Pipeline(steps=[('tf_idf', TfidfVectorizer()), ('clf', MultinomialNB())])"
            ]
          },
          "metadata": {},
          "execution_count": 76
        }
      ]
    },
    {
      "cell_type": "code",
      "source": [
        "# Make prediction of baseline model_0\n",
        "from sklearn.metrics import *\n",
        "\n",
        "baseline_pred = model_0.predict(val_sentences)\n",
        "print('accuracy_score = ', accuracy_score(val_labels_encoded, baseline_pred))\n",
        "#print('f1_score = ', f1_score(val_labels_encoded, baseline_pred))"
      ],
      "metadata": {
        "colab": {
          "base_uri": "https://localhost:8080/"
        },
        "id": "KgA2K-R7Hsgj",
        "outputId": "e6002bcf-abbe-49ef-b21c-fe87475a42bf"
      },
      "execution_count": null,
      "outputs": [
        {
          "output_type": "stream",
          "name": "stdout",
          "text": [
            "accuracy_score =  0.7218323844829869\n"
          ]
        }
      ]
    },
    {
      "cell_type": "code",
      "source": [
        "# baseline reults\n",
        "calculate_results(val_labels_encoded, baseline_pred)"
      ],
      "metadata": {
        "colab": {
          "base_uri": "https://localhost:8080/"
        },
        "id": "Rqcc4iisHspo",
        "outputId": "e5c10dce-40b5-4b7b-d58e-65bbd9a85882"
      },
      "execution_count": null,
      "outputs": [
        {
          "output_type": "execute_result",
          "data": {
            "text/plain": [
              "{'accuracy': 72.1832384482987,\n",
              " 'precision': 0.7186466952323352,\n",
              " 'recall': 0.7218323844829869,\n",
              " 'f1': 0.6989250353450294}"
            ]
          },
          "metadata": {},
          "execution_count": 46
        }
      ]
    },
    {
      "cell_type": "markdown",
      "source": [
        "# model_2, Building & fitting an NLP feature extraction model using pretrained embeddings"
      ],
      "metadata": {
        "id": "0XppZaIrR5d0"
      }
    },
    {
      "cell_type": "code",
      "source": [
        "!pip install tensorflow_hub\n",
        "import keras\n",
        "import tensorflow as tf\n",
        "from keras import layers"
      ],
      "metadata": {
        "id": "pSRvv8o3aD7o",
        "colab": {
          "base_uri": "https://localhost:8080/"
        },
        "outputId": "3d01a0ce-0ec7-40c8-bca4-b50b2999cf48"
      },
      "execution_count": null,
      "outputs": [
        {
          "output_type": "stream",
          "name": "stdout",
          "text": [
            "Looking in indexes: https://pypi.org/simple, https://us-python.pkg.dev/colab-wheels/public/simple/\n",
            "Requirement already satisfied: tensorflow_hub in /usr/local/lib/python3.8/dist-packages (0.12.0)\n",
            "Requirement already satisfied: protobuf>=3.8.0 in /usr/local/lib/python3.8/dist-packages (from tensorflow_hub) (3.19.6)\n",
            "Requirement already satisfied: numpy>=1.12.0 in /usr/local/lib/python3.8/dist-packages (from tensorflow_hub) (1.21.6)\n"
          ]
        }
      ]
    },
    {
      "cell_type": "code",
      "source": [
        "# Now let'ss use pretrained word embeddings from Tensorflow Hub (https://tfhub.dev/google/universal-sentence-encoder/4)\n",
        "# Download pretrained Tensorflow Hub USE\n",
        "import tensorflow_hub as hub\n",
        "tf_hub_embedding_layer = hub.KerasLayer('https://tfhub.dev/google/universal-sentence-encoder/4', trainable=False, name = 'universal_sentence_encoder')"
      ],
      "metadata": {
        "id": "-ngBuTYcWpyf"
      },
      "execution_count": null,
      "outputs": []
    },
    {
      "cell_type": "code",
      "source": [
        "# test out the pretrained embedding on a random sentence  # EXAMPLE\n",
        "import random\n",
        "random_train_sentence = random.choice(train_sentences)\n",
        "embedded_sentence = tf_hub_embedding_layer([random_train_sentence])\n",
        "len(embedded_sentence[0])"
      ],
      "metadata": {
        "colab": {
          "base_uri": "https://localhost:8080/"
        },
        "id": "Ryk9zbnbYIad",
        "outputId": "53aa3ea4-0af6-458a-81d3-7bd534c5bcf8"
      },
      "execution_count": null,
      "outputs": [
        {
          "output_type": "execute_result",
          "data": {
            "text/plain": [
              "512"
            ]
          },
          "metadata": {},
          "execution_count": 77
        }
      ]
    },
    {
      "cell_type": "code",
      "source": [
        "# Define feature extraction model using TF Hub\n",
        "inputs = layers.Input(shape=[], dtype=tf.string)\n",
        "pretrained_embedding = tf_hub_embedding_layer(inputs) # tokenize text & create embedding of each sequence (512 long vector)\n",
        "x = layers.Dense(128, activation='relu')(pretrained_embedding)\n",
        "x = layers.Dense(32, activation='relu')(x)\n",
        "outputs = layers.Dense(5, activation='softmax')(x) # create output layer\n",
        "\n",
        "model_2 = keras.Model(inputs, outputs, name='model_2_USE_feature_extraction')"
      ],
      "metadata": {
        "id": "IUCePP2KR5g0"
      },
      "execution_count": null,
      "outputs": []
    },
    {
      "cell_type": "code",
      "source": [
        "# compile the model_2\n",
        "model_2.compile(loss = 'categorical_crossentropy', optimizer='adam', metrics=['accuracy'])\n",
        "#model_2.summary()"
      ],
      "metadata": {
        "id": "a4Lj9JtLU-QC"
      },
      "execution_count": null,
      "outputs": []
    },
    {
      "cell_type": "code",
      "source": [
        "train_sent = train_df['text'][:115000]\n",
        "val_sent = val_df['text'][:20000]\n",
        "test_sent = test_df['text'][:20000]\n",
        "len(train_sent), len(val_sent), len(test_sent)"
      ],
      "metadata": {
        "colab": {
          "base_uri": "https://localhost:8080/"
        },
        "id": "BETuu20bemo7",
        "outputId": "bbccdbbe-d34e-4635-c8c3-ae3d8f395338"
      },
      "execution_count": null,
      "outputs": [
        {
          "output_type": "execute_result",
          "data": {
            "text/plain": [
              "(115000, 20000, 20000)"
            ]
          },
          "metadata": {},
          "execution_count": 83
        }
      ]
    },
    {
      "cell_type": "code",
      "source": [
        "# fit the model_2 \n",
        "model_2.fit(train_sent, train_labels_one_hot, epochs=5, validation_data=(test_sent, test_labels_one_hot), batch_size=64)"
      ],
      "metadata": {
        "colab": {
          "base_uri": "https://localhost:8080/"
        },
        "id": "yn2j0oZwU-TC",
        "outputId": "f9109671-33bc-473e-a797-7eb6d4b88336"
      },
      "execution_count": null,
      "outputs": [
        {
          "output_type": "stream",
          "name": "stdout",
          "text": [
            "Epoch 1/5\n",
            "1797/1797 [==============================] - 62s 34ms/step - loss: 0.7082 - accuracy: 0.7287 - val_loss: 0.6678 - val_accuracy: 0.7466\n",
            "Epoch 2/5\n",
            "1797/1797 [==============================] - 63s 35ms/step - loss: 0.6329 - accuracy: 0.7585 - val_loss: 0.6461 - val_accuracy: 0.7532\n",
            "Epoch 3/5\n",
            "1797/1797 [==============================] - 53s 29ms/step - loss: 0.5973 - accuracy: 0.7726 - val_loss: 0.6335 - val_accuracy: 0.7593\n",
            "Epoch 4/5\n",
            "1797/1797 [==============================] - 52s 29ms/step - loss: 0.5702 - accuracy: 0.7839 - val_loss: 0.6306 - val_accuracy: 0.7619\n",
            "Epoch 5/5\n",
            "1797/1797 [==============================] - 50s 28ms/step - loss: 0.5496 - accuracy: 0.7922 - val_loss: 0.6291 - val_accuracy: 0.7604\n"
          ]
        },
        {
          "output_type": "execute_result",
          "data": {
            "text/plain": [
              "<keras.callbacks.History at 0x7f04a7d495e0>"
            ]
          },
          "metadata": {},
          "execution_count": 85
        }
      ]
    },
    {
      "cell_type": "code",
      "source": [
        "# Turn our data into Tensorflow Datasets\n",
        "train_data = tf.data.Dataset.from_tensor_slices((train_sentences, train_labels_one_hot))\n",
        "test_data = tf.data.Dataset.from_tensor_slices((test_sentences, test_labels_one_hot))\n",
        "val_data = tf.data.Dataset.from_tensor_slices((val_sentences, val_labels_one_hot))\n",
        "train_data = train_data.batch(32).prefetch(tf.data.AUTOTUNE)  # turn them into prefetch dataset, also work without prefetch \n",
        "test_data = test_data.batch(32).prefetch(tf.data.AUTOTUNE)\n",
        "val_data = val_data.batch(32).prefetch(tf.data.AUTOTUNE)"
      ],
      "metadata": {
        "id": "mZNEtDbGU-V3"
      },
      "execution_count": null,
      "outputs": []
    },
    {
      "cell_type": "code",
      "source": [
        "model_2.fit(train_data, epochs=4, validation_data=test_data )  # SECOND= this is run so slow with tensorflow data"
      ],
      "metadata": {
        "colab": {
          "base_uri": "https://localhost:8080/"
        },
        "id": "-3jTilopR5ji",
        "outputId": "9c8cca40-3633-4424-d76b-d421b68787f1"
      },
      "execution_count": null,
      "outputs": [
        {
          "output_type": "stream",
          "name": "stdout",
          "text": [
            "Epoch 1/4\n",
            "3125/3125 [==============================] - 56s 18ms/step - loss: 0.5191 - accuracy: 0.8044 - val_loss: 0.6416 - val_accuracy: 0.7589\n",
            "Epoch 2/4\n",
            "3125/3125 [==============================] - 51s 16ms/step - loss: 0.5025 - accuracy: 0.8110 - val_loss: 0.6471 - val_accuracy: 0.7567\n",
            "Epoch 3/4\n",
            "3125/3125 [==============================] - 50s 16ms/step - loss: 0.4867 - accuracy: 0.8171 - val_loss: 0.6558 - val_accuracy: 0.7563\n",
            "Epoch 4/4\n",
            "3125/3125 [==============================] - 51s 16ms/step - loss: 0.4721 - accuracy: 0.8229 - val_loss: 0.6669 - val_accuracy: 0.7551\n"
          ]
        },
        {
          "output_type": "execute_result",
          "data": {
            "text/plain": [
              "<keras.callbacks.History at 0x7fdb3ef4b100>"
            ]
          },
          "metadata": {},
          "execution_count": 101
        }
      ]
    },
    {
      "cell_type": "code",
      "source": [
        "# THIRD=This method run so fast compare to above fit method\n",
        "model_2.fit(train_data, epochs=4, validation_data = test_data, \n",
        "            steps_per_epoch=int(0.1 * len(train_data)), validation_steps=int(0.1*len(test_data)) )"
      ],
      "metadata": {
        "colab": {
          "base_uri": "https://localhost:8080/"
        },
        "id": "0PUmkwDTR5nO",
        "outputId": "8f0222be-e909-485e-e364-d9e8bf6ae8e9"
      },
      "execution_count": null,
      "outputs": [
        {
          "output_type": "stream",
          "name": "stdout",
          "text": [
            "Epoch 1/4\n",
            "312/312 [==============================] - 7s 18ms/step - loss: 0.4813 - accuracy: 0.8203 - val_loss: 0.7083 - val_accuracy: 0.7371\n",
            "Epoch 2/4\n",
            "312/312 [==============================] - 7s 23ms/step - loss: 0.4454 - accuracy: 0.8306 - val_loss: 0.7272 - val_accuracy: 0.7337\n",
            "Epoch 3/4\n",
            "312/312 [==============================] - 6s 19ms/step - loss: 0.4798 - accuracy: 0.8213 - val_loss: 0.7051 - val_accuracy: 0.7344\n",
            "Epoch 4/4\n",
            "312/312 [==============================] - 5s 16ms/step - loss: 0.4733 - accuracy: 0.8204 - val_loss: 0.7164 - val_accuracy: 0.7385\n"
          ]
        },
        {
          "output_type": "execute_result",
          "data": {
            "text/plain": [
              "<keras.callbacks.History at 0x7fdb3ef4bac0>"
            ]
          },
          "metadata": {},
          "execution_count": 131
        }
      ]
    },
    {
      "cell_type": "code",
      "source": [
        "# Make prediction with model_2\n",
        "model_2_pred = model_2.predict(val_data)\n",
        "model_2_pred = tf.argmax(model_2_pred, axis=1)\n",
        "model_2_pred"
      ],
      "metadata": {
        "colab": {
          "base_uri": "https://localhost:8080/"
        },
        "id": "e7jjz-131wOq",
        "outputId": "21993357-2100-4247-99d6-98cf06288472"
      },
      "execution_count": null,
      "outputs": [
        {
          "output_type": "stream",
          "name": "stdout",
          "text": [
            "469/469 [==============================] - 6s 13ms/step\n"
          ]
        },
        {
          "output_type": "execute_result",
          "data": {
            "text/plain": [
              "<tf.Tensor: shape=(15000,), dtype=int64, numpy=array([0, 0, 3, ..., 1, 0, 0])>"
            ]
          },
          "metadata": {},
          "execution_count": 132
        }
      ]
    },
    {
      "cell_type": "code",
      "source": [
        "model_2_results = calculate_results(val_labels_encoded, model_2_pred)\n",
        "model_2_results"
      ],
      "metadata": {
        "colab": {
          "base_uri": "https://localhost:8080/"
        },
        "id": "iyDJdSRU2Jyw",
        "outputId": "73e9aa36-057e-4a39-83cf-e49dc5d4e591"
      },
      "execution_count": null,
      "outputs": [
        {
          "output_type": "execute_result",
          "data": {
            "text/plain": [
              "{'accuracy': 75.98,\n",
              " 'precision': 0.7595303859375385,\n",
              " 'recall': 0.7598,\n",
              " 'f1': 0.756414196409213}"
            ]
          },
          "metadata": {},
          "execution_count": 133
        }
      ]
    },
    {
      "cell_type": "code",
      "source": [],
      "metadata": {
        "id": "O8MDe1MA2J13"
      },
      "execution_count": null,
      "outputs": []
    },
    {
      "cell_type": "markdown",
      "source": [
        "# Model_4 : Building a multi input model "
      ],
      "metadata": {
        "id": "mlqx61gv95SB"
      }
    },
    {
      "cell_type": "code",
      "source": [
        "# CREATING CHARACTER-LEVEL TOKENIZER\n",
        "# Make a function to split sentences into characters\n",
        "def split_char(text):\n",
        "  return ' '.join(list(text))\n",
        "\n",
        "# text splitting\n",
        "train_chars = [split_char(sentence) for sentence in train_sent]\n",
        "val_chars = [split_char(sentence) for sentence in val_sent]\n",
        "test_chars = [split_char(sentence) for sentence in test_sent]\n",
        "train_chars[:2]"
      ],
      "metadata": {
        "colab": {
          "base_uri": "https://localhost:8080/"
        },
        "id": "T5b-jkS2GB1W",
        "outputId": "58f75f85-6744-4ced-8ac9-7e48d79e2725"
      },
      "execution_count": null,
      "outputs": [
        {
          "output_type": "execute_result",
          "data": {
            "text/plain": [
              "['t o   i n v e s t i g a t e   t h e   e f f i c a c y   o f   @   w e e k s   o f   d a i l y   l o w - d o s e   o r a l   p r e d n i s o l o n e   i n   i m p r o v i n g   p a i n   ,   m o b i l i t y   ,   a n d   s y s t e m i c   l o w - g r a d e   i n f l a m m a t i o n   i n   t h e   s h o r t   t e r m   a n d   w h e t h e r   t h e   e f f e c t   w o u l d   b e   s u s t a i n e d   a t   @   w e e k s   i n   o l d e r   a d u l t s   w i t h   m o d e r a t e   t o   s e v e r e   k n e e   o s t e o a r t h r i t i s   (   o a   )   .',\n",
              " 'a   t o t a l   o f   @   p a t i e n t s   w i t h   p r i m a r y   k n e e   o a   w e r e   r a n d o m i z e d   @ : @   ;   @   r e c e i v e d   @   m g / d a y   o f   p r e d n i s o l o n e   a n d   @   r e c e i v e d   p l a c e b o   f o r   @   w e e k s   .']"
            ]
          },
          "metadata": {},
          "execution_count": 86
        }
      ]
    },
    {
      "cell_type": "code",
      "source": [
        "# Get all keyboard characters\n",
        "import string\n",
        "alphabet = string.ascii_lowercase + string.digits + string.punctuation\n",
        "\n",
        "# Create char-level token-vectorizer\n",
        "from tensorflow.keras.layers.experimental.preprocessing import TextVectorization\n",
        "\n",
        "char_tokens = len(alphabet) + 2\n",
        "char_vectorizer = TextVectorization(max_tokens = char_tokens, output_sequence_length = 290, name='char_vectorizer')"
      ],
      "metadata": {
        "id": "kB4Qeuo4GB_i"
      },
      "execution_count": null,
      "outputs": []
    },
    {
      "cell_type": "code",
      "source": [
        "# Adapt character vectorizer to training character\n",
        "char_vectorizer.adapt(train_chars)\n",
        "char_vocab = char_vectorizer.get_vocabulary()\n",
        "print(len(char_vocab))"
      ],
      "metadata": {
        "colab": {
          "base_uri": "https://localhost:8080/"
        },
        "id": "462EVC77HVy4",
        "outputId": "fff58f03-07c4-45d7-e5ee-a70461896564"
      },
      "execution_count": null,
      "outputs": [
        {
          "output_type": "stream",
          "name": "stdout",
          "text": [
            "28\n"
          ]
        }
      ]
    },
    {
      "cell_type": "code",
      "source": [
        "# Creating Embedding , # Create char embedding layer\n",
        "char_embed = keras.layers.Embedding(input_dim= char_tokens, # number of different characters\n",
        "                              output_dim=25, # \n",
        "                              mask_zero=False, # don't use masks (this messes up model_5 if set to True)\n",
        "                              name=\"char_embed\")"
      ],
      "metadata": {
        "id": "99TzcIr-HWH8"
      },
      "execution_count": null,
      "outputs": []
    },
    {
      "cell_type": "code",
      "source": [
        "# 1. create token-level embedding model\n",
        "# 2. Create char-level model\n",
        "# 3. Combine 1 & 2 with a (layers.Concatenate)\n",
        "# 4. Build a series of output layers on top of 3 similar"
      ],
      "metadata": {
        "id": "hax9739RDW4B"
      },
      "execution_count": null,
      "outputs": []
    },
    {
      "cell_type": "code",
      "source": [
        "# 1. Setup token inputs/model\n",
        "token_inputs = layers.Input(shape=[], dtype=tf.string, name='token_inptus')\n",
        "token_embedding = tf_hub_embedding_layer(token_inputs)\n",
        "token_outputs = layers.Dense(128, activation='relu')(token_embedding)\n",
        "token_model = tf.keras.Model(inputs=token_inputs, outputs= token_outputs)\n",
        "\n",
        "# 2. Setup char input/model\n",
        "char_inputs = layers.Input(shape=(1,), dtype=tf.string, name='char_inputs')\n",
        "char_vectors = char_vectorizer(char_inputs)\n",
        "char_embedding = char_embed(char_vectors)\n",
        "char_bi_lstm = layers.Bidirectional(layers.LSTM(32))(char_embedding)\n",
        "char_model = tf.keras.Model(char_inputs, char_bi_lstm)\n",
        "\n",
        "# 3. Concatenate token and char output\n",
        "token_char_concat = layers.Concatenate(name='token_char_hybrid')([token_model.output, char_model.output])\n",
        "\n",
        "# 4. Create a output layer\n",
        "combined_dropout = layers.Dropout(0.3)(token_char_concat)\n",
        "combined_dense = layers.Dense(128, activation='relu')(combined_dropout)\n",
        "output_layer = layers.Dense(5, activation='softmax')(combined_dense)\n",
        "\n",
        "# 5. Construct a final model_4\n",
        "model_4 = tf.keras.Model(inputs= [token_model.input, char_model.input], outputs= output_layer, name= 'model_4')\n"
      ],
      "metadata": {
        "id": "8tgqZCaVBGES"
      },
      "execution_count": null,
      "outputs": []
    },
    {
      "cell_type": "code",
      "source": [
        "# plot model_4\n",
        "from keras.utils import plot_model\n",
        "plot_model(model_4)"
      ],
      "metadata": {
        "id": "qAL_67gGKH_a"
      },
      "execution_count": null,
      "outputs": []
    },
    {
      "cell_type": "code",
      "source": [
        "# compile model_4\n",
        "model_4.compile(loss='categorical_crossentropy', optimizer= 'adam', metrics= ['accuracy'])"
      ],
      "metadata": {
        "id": "EchT0VizBGHj"
      },
      "execution_count": null,
      "outputs": []
    },
    {
      "cell_type": "code",
      "source": [
        "# combining data for model_4\n",
        "# Training dataset\n",
        "train_char_data = tf.data.Dataset.from_tensor_slices((train_sent, train_chars)) # (train_sentences,train_chars) this data order according constructed model_4\n",
        "train_char_labels = tf.data.Dataset.from_tensor_slices(train_labels_one_hot)\n",
        "train_char_dataset = tf.data.Dataset.zip((train_char_data, train_char_labels)) # combine input & target data with tf.data.Dataset.zip method\n",
        "\n",
        "train_char_dataset = train_char_dataset.batch(32).prefetch(tf.data.AUTOTUNE)\n",
        "\n",
        "# test dataset\n",
        "test_char_data = tf.data.Dataset.from_tensor_slices((test_sent, test_chars))\n",
        "test_char_labels = tf.data.Dataset.from_tensor_slices(test_labels_one_hot)\n",
        "test_char_dataset = tf.data.Dataset.zip((test_char_data, test_char_labels)) # \n",
        "\n",
        "test_char_dataset = test_char_dataset.batch(32).prefetch(tf.data.AUTOTUNE)"
      ],
      "metadata": {
        "id": "xPduC4auBGK8"
      },
      "execution_count": null,
      "outputs": []
    },
    {
      "cell_type": "code",
      "source": [
        "model_4.fit(train_char_dataset, steps_per_epoch= int(0.1*len(train_char_dataset)), validation_steps= int(0.1*len(test_char_dataset)),\n",
        "            epochs=5, validation_data= test_char_dataset)"
      ],
      "metadata": {
        "colab": {
          "base_uri": "https://localhost:8080/"
        },
        "id": "f0Zk1YCkBGZ_",
        "outputId": "a36dc1ae-eebd-440d-db68-403aee81018e"
      },
      "execution_count": null,
      "outputs": [
        {
          "output_type": "stream",
          "name": "stdout",
          "text": [
            "Epoch 1/5\n",
            "359/359 [==============================] - 99s 250ms/step - loss: 0.9815 - accuracy: 0.6121 - val_loss: 0.8116 - val_accuracy: 0.6875\n",
            "Epoch 2/5\n",
            "359/359 [==============================] - 92s 255ms/step - loss: 0.7736 - accuracy: 0.7023 - val_loss: 0.7623 - val_accuracy: 0.7107\n",
            "Epoch 3/5\n",
            "359/359 [==============================] - 84s 233ms/step - loss: 0.7334 - accuracy: 0.7134 - val_loss: 0.7138 - val_accuracy: 0.7258\n",
            "Epoch 4/5\n",
            "359/359 [==============================] - 81s 226ms/step - loss: 0.7146 - accuracy: 0.7244 - val_loss: 0.6980 - val_accuracy: 0.7308\n",
            "Epoch 5/5\n",
            "359/359 [==============================] - 82s 228ms/step - loss: 0.7118 - accuracy: 0.7255 - val_loss: 0.6826 - val_accuracy: 0.7424\n"
          ]
        },
        {
          "output_type": "execute_result",
          "data": {
            "text/plain": [
              "<keras.callbacks.History at 0x7f04aa13beb0>"
            ]
          },
          "metadata": {},
          "execution_count": 94
        }
      ]
    },
    {
      "cell_type": "code",
      "source": [
        "# Make prediction\n",
        "model_4_pred = model_4.predict(test_char_dataset)\n",
        "model_4_pred = tf.argmax(model_4_pred, axis=1)\n",
        "model_4_pred"
      ],
      "metadata": {
        "colab": {
          "base_uri": "https://localhost:8080/"
        },
        "id": "B4K6RODPBGdZ",
        "outputId": "8fba52cd-b68b-447e-8fad-f4cc20216129"
      },
      "execution_count": null,
      "outputs": [
        {
          "output_type": "stream",
          "name": "stdout",
          "text": [
            "625/625 [==============================] - 36s 56ms/step\n"
          ]
        },
        {
          "output_type": "execute_result",
          "data": {
            "text/plain": [
              "<tf.Tensor: shape=(20000,), dtype=int64, numpy=array([0, 2, 2, ..., 4, 4, 2])>"
            ]
          },
          "metadata": {},
          "execution_count": 95
        }
      ]
    },
    {
      "cell_type": "code",
      "source": [
        "# get results of model_4\n",
        "model_4_results = calculate_results(test_labels_encoded, model_4_pred)\n",
        "model_4_results"
      ],
      "metadata": {
        "colab": {
          "base_uri": "https://localhost:8080/"
        },
        "id": "qlcNJNmS2J5X",
        "outputId": "4c4089fa-9139-4206-8476-0acee6e5908b"
      },
      "execution_count": null,
      "outputs": [
        {
          "output_type": "execute_result",
          "data": {
            "text/plain": [
              "{'accuracy': 73.42999999999999,\n",
              " 'precision': 0.7294878911483774,\n",
              " 'recall': 0.7343,\n",
              " 'f1': 0.726960954205618}"
            ]
          },
          "metadata": {},
          "execution_count": 102
        }
      ]
    },
    {
      "cell_type": "code",
      "source": [],
      "metadata": {
        "id": "aVh1NuPpVOt8"
      },
      "execution_count": null,
      "outputs": []
    },
    {
      "cell_type": "markdown",
      "source": [
        "# Model_5 Pretrained-token-Embedding + charachter-Embedding + positional-Embeddings "
      ],
      "metadata": {
        "id": "AHAIREIEXgAW"
      }
    },
    {
      "cell_type": "code",
      "source": [
        "train_df.head()"
      ],
      "metadata": {
        "colab": {
          "base_uri": "https://localhost:8080/",
          "height": 206
        },
        "id": "79JOSOoJ2X01",
        "outputId": "679d0ab8-4519-466d-c2e0-6f842af66a11"
      },
      "execution_count": null,
      "outputs": [
        {
          "output_type": "execute_result",
          "data": {
            "text/plain": [
              "      target                                               text  line_number  \\\n",
              "0  OBJECTIVE  to investigate the efficacy of @ weeks of dail...            0   \n",
              "1    METHODS  a total of @ patients with primary knee oa wer...            1   \n",
              "2    METHODS  outcome measures included pain reduction and i...            2   \n",
              "3    METHODS  pain was assessed using the visual analog pain...            3   \n",
              "4    METHODS  secondary outcome measures included the wester...            4   \n",
              "\n",
              "   total_lines  \n",
              "0           11  \n",
              "1           11  \n",
              "2           11  \n",
              "3           11  \n",
              "4           11  "
            ],
            "text/html": [
              "\n",
              "  <div id=\"df-88a46197-ba42-412d-8e2c-85087ce9f5f7\">\n",
              "    <div class=\"colab-df-container\">\n",
              "      <div>\n",
              "<style scoped>\n",
              "    .dataframe tbody tr th:only-of-type {\n",
              "        vertical-align: middle;\n",
              "    }\n",
              "\n",
              "    .dataframe tbody tr th {\n",
              "        vertical-align: top;\n",
              "    }\n",
              "\n",
              "    .dataframe thead th {\n",
              "        text-align: right;\n",
              "    }\n",
              "</style>\n",
              "<table border=\"1\" class=\"dataframe\">\n",
              "  <thead>\n",
              "    <tr style=\"text-align: right;\">\n",
              "      <th></th>\n",
              "      <th>target</th>\n",
              "      <th>text</th>\n",
              "      <th>line_number</th>\n",
              "      <th>total_lines</th>\n",
              "    </tr>\n",
              "  </thead>\n",
              "  <tbody>\n",
              "    <tr>\n",
              "      <th>0</th>\n",
              "      <td>OBJECTIVE</td>\n",
              "      <td>to investigate the efficacy of @ weeks of dail...</td>\n",
              "      <td>0</td>\n",
              "      <td>11</td>\n",
              "    </tr>\n",
              "    <tr>\n",
              "      <th>1</th>\n",
              "      <td>METHODS</td>\n",
              "      <td>a total of @ patients with primary knee oa wer...</td>\n",
              "      <td>1</td>\n",
              "      <td>11</td>\n",
              "    </tr>\n",
              "    <tr>\n",
              "      <th>2</th>\n",
              "      <td>METHODS</td>\n",
              "      <td>outcome measures included pain reduction and i...</td>\n",
              "      <td>2</td>\n",
              "      <td>11</td>\n",
              "    </tr>\n",
              "    <tr>\n",
              "      <th>3</th>\n",
              "      <td>METHODS</td>\n",
              "      <td>pain was assessed using the visual analog pain...</td>\n",
              "      <td>3</td>\n",
              "      <td>11</td>\n",
              "    </tr>\n",
              "    <tr>\n",
              "      <th>4</th>\n",
              "      <td>METHODS</td>\n",
              "      <td>secondary outcome measures included the wester...</td>\n",
              "      <td>4</td>\n",
              "      <td>11</td>\n",
              "    </tr>\n",
              "  </tbody>\n",
              "</table>\n",
              "</div>\n",
              "      <button class=\"colab-df-convert\" onclick=\"convertToInteractive('df-88a46197-ba42-412d-8e2c-85087ce9f5f7')\"\n",
              "              title=\"Convert this dataframe to an interactive table.\"\n",
              "              style=\"display:none;\">\n",
              "        \n",
              "  <svg xmlns=\"http://www.w3.org/2000/svg\" height=\"24px\"viewBox=\"0 0 24 24\"\n",
              "       width=\"24px\">\n",
              "    <path d=\"M0 0h24v24H0V0z\" fill=\"none\"/>\n",
              "    <path d=\"M18.56 5.44l.94 2.06.94-2.06 2.06-.94-2.06-.94-.94-2.06-.94 2.06-2.06.94zm-11 1L8.5 8.5l.94-2.06 2.06-.94-2.06-.94L8.5 2.5l-.94 2.06-2.06.94zm10 10l.94 2.06.94-2.06 2.06-.94-2.06-.94-.94-2.06-.94 2.06-2.06.94z\"/><path d=\"M17.41 7.96l-1.37-1.37c-.4-.4-.92-.59-1.43-.59-.52 0-1.04.2-1.43.59L10.3 9.45l-7.72 7.72c-.78.78-.78 2.05 0 2.83L4 21.41c.39.39.9.59 1.41.59.51 0 1.02-.2 1.41-.59l7.78-7.78 2.81-2.81c.8-.78.8-2.07 0-2.86zM5.41 20L4 18.59l7.72-7.72 1.47 1.35L5.41 20z\"/>\n",
              "  </svg>\n",
              "      </button>\n",
              "      \n",
              "  <style>\n",
              "    .colab-df-container {\n",
              "      display:flex;\n",
              "      flex-wrap:wrap;\n",
              "      gap: 12px;\n",
              "    }\n",
              "\n",
              "    .colab-df-convert {\n",
              "      background-color: #E8F0FE;\n",
              "      border: none;\n",
              "      border-radius: 50%;\n",
              "      cursor: pointer;\n",
              "      display: none;\n",
              "      fill: #1967D2;\n",
              "      height: 32px;\n",
              "      padding: 0 0 0 0;\n",
              "      width: 32px;\n",
              "    }\n",
              "\n",
              "    .colab-df-convert:hover {\n",
              "      background-color: #E2EBFA;\n",
              "      box-shadow: 0px 1px 2px rgba(60, 64, 67, 0.3), 0px 1px 3px 1px rgba(60, 64, 67, 0.15);\n",
              "      fill: #174EA6;\n",
              "    }\n",
              "\n",
              "    [theme=dark] .colab-df-convert {\n",
              "      background-color: #3B4455;\n",
              "      fill: #D2E3FC;\n",
              "    }\n",
              "\n",
              "    [theme=dark] .colab-df-convert:hover {\n",
              "      background-color: #434B5C;\n",
              "      box-shadow: 0px 1px 3px 1px rgba(0, 0, 0, 0.15);\n",
              "      filter: drop-shadow(0px 1px 2px rgba(0, 0, 0, 0.3));\n",
              "      fill: #FFFFFF;\n",
              "    }\n",
              "  </style>\n",
              "\n",
              "      <script>\n",
              "        const buttonEl =\n",
              "          document.querySelector('#df-88a46197-ba42-412d-8e2c-85087ce9f5f7 button.colab-df-convert');\n",
              "        buttonEl.style.display =\n",
              "          google.colab.kernel.accessAllowed ? 'block' : 'none';\n",
              "\n",
              "        async function convertToInteractive(key) {\n",
              "          const element = document.querySelector('#df-88a46197-ba42-412d-8e2c-85087ce9f5f7');\n",
              "          const dataTable =\n",
              "            await google.colab.kernel.invokeFunction('convertToInteractive',\n",
              "                                                     [key], {});\n",
              "          if (!dataTable) return;\n",
              "\n",
              "          const docLinkHtml = 'Like what you see? Visit the ' +\n",
              "            '<a target=\"_blank\" href=https://colab.research.google.com/notebooks/data_table.ipynb>data table notebook</a>'\n",
              "            + ' to learn more about interactive tables.';\n",
              "          element.innerHTML = '';\n",
              "          dataTable['output_type'] = 'display_data';\n",
              "          await google.colab.output.renderOutput(dataTable, element);\n",
              "          const docLink = document.createElement('div');\n",
              "          docLink.innerHTML = docLinkHtml;\n",
              "          element.appendChild(docLink);\n",
              "        }\n",
              "      </script>\n",
              "    </div>\n",
              "  </div>\n",
              "  "
            ]
          },
          "metadata": {},
          "execution_count": 27
        }
      ]
    },
    {
      "cell_type": "markdown",
      "source": [
        "# Create Positional Embedding"
      ],
      "metadata": {
        "id": "f5otL4N92X35"
      }
    },
    {
      "cell_type": "code",
      "source": [
        "# how many different value in line_number column \n",
        "len(train_df['line_number'].value_counts())"
      ],
      "metadata": {
        "colab": {
          "base_uri": "https://localhost:8080/"
        },
        "id": "f8tTLbn_2X7I",
        "outputId": "b984b1fb-5092-4004-d39a-8f40919496a1"
      },
      "execution_count": null,
      "outputs": [
        {
          "output_type": "execute_result",
          "data": {
            "text/plain": [
              "31"
            ]
          },
          "metadata": {},
          "execution_count": 32
        }
      ]
    },
    {
      "cell_type": "code",
      "source": [
        "# check distribution\n",
        "train_df.line_number.plot.hist()"
      ],
      "metadata": {
        "colab": {
          "base_uri": "https://localhost:8080/",
          "height": 283
        },
        "id": "Y_HOYsae2X-g",
        "outputId": "477002eb-ec68-4dfb-80e7-3b1ec9b81d70"
      },
      "execution_count": null,
      "outputs": [
        {
          "output_type": "execute_result",
          "data": {
            "text/plain": [
              "<matplotlib.axes._subplots.AxesSubplot at 0x7f04af783c70>"
            ]
          },
          "metadata": {},
          "execution_count": 33
        },
        {
          "output_type": "display_data",
          "data": {
            "text/plain": [
              "<Figure size 432x288 with 1 Axes>"
            ],
            "image/png": "[encoded data removed]"
          },
          "metadata": {
            "needs_background": "light"
          }
        }
      ]
    },
    {
      "cell_type": "code",
      "source": [
        "# Use tensorflow to create one-hot encoded tensors of our 'line_number'\n",
        "train_line_numbers_one_hot = tf.one_hot(train_df['line_number'][:115000].to_numpy(), depth=16)\n",
        "val_line_numbers_one_hot = tf.one_hot(val_df['line_number'][:20000].to_numpy(), depth=16)\n",
        "test_line_numbers_one_hot = tf.one_hot(test_df['line_number'][:20000].to_numpy(), depth=16)\n",
        "\n",
        "train_line_numbers_one_hot.shape, val_line_numbers_one_hot.shape, train_line_numbers_one_hot[:3]"
      ],
      "metadata": {
        "id": "Z2OkxuJaXgDx",
        "colab": {
          "base_uri": "https://localhost:8080/"
        },
        "outputId": "8398d570-51a1-4df9-96cb-165b8e11cac3"
      },
      "execution_count": null,
      "outputs": [
        {
          "output_type": "execute_result",
          "data": {
            "text/plain": [
              "(TensorShape([115000, 16]),\n",
              " TensorShape([20000, 16]),\n",
              " <tf.Tensor: shape=(3, 16), dtype=float32, numpy=\n",
              " array([[1., 0., 0., 0., 0., 0., 0., 0., 0., 0., 0., 0., 0., 0., 0., 0.],\n",
              "        [0., 1., 0., 0., 0., 0., 0., 0., 0., 0., 0., 0., 0., 0., 0., 0.],\n",
              "        [0., 0., 1., 0., 0., 0., 0., 0., 0., 0., 0., 0., 0., 0., 0., 0.]],\n",
              "       dtype=float32)>)"
            ]
          },
          "metadata": {},
          "execution_count": 103
        }
      ]
    },
    {
      "cell_type": "code",
      "source": [
        "# Now we have encoded our line_numbers feature, let's do the same of our total_lines_number.\n",
        "len(train_df['total_lines'].value_counts())   # checking length of different numbers in 'total_lines'"
      ],
      "metadata": {
        "colab": {
          "base_uri": "https://localhost:8080/"
        },
        "id": "wpJ2VPpb6p3W",
        "outputId": "a215bde7-d96e-4ade-a52d-0ce053dd6bbe"
      },
      "execution_count": null,
      "outputs": [
        {
          "output_type": "execute_result",
          "data": {
            "text/plain": [
              "27"
            ]
          },
          "metadata": {},
          "execution_count": 41
        }
      ]
    },
    {
      "cell_type": "code",
      "source": [
        "train_df['total_lines'].plot.hist()  # check the distribution"
      ],
      "metadata": {
        "colab": {
          "base_uri": "https://localhost:8080/",
          "height": 285
        },
        "id": "68r6P_sy6p6R",
        "outputId": "5ba8d520-8d54-4b1d-e5e2-c7e5e7e59c0b"
      },
      "execution_count": null,
      "outputs": [
        {
          "output_type": "execute_result",
          "data": {
            "text/plain": [
              "<matplotlib.axes._subplots.AxesSubplot at 0x7f04acc94760>"
            ]
          },
          "metadata": {},
          "execution_count": 42
        },
        {
          "output_type": "display_data",
          "data": {
            "text/plain": [
              "<Figure size 432x288 with 1 Axes>"
            ],
            "image/png": "[encoded data removed]"
          },
          "metadata": {
            "needs_background": "light"
          }
        }
      ]
    },
    {
      "cell_type": "code",
      "source": [
        "# Use tensorflow to create one-hot encoded tensors of our 'total_lines' feature\n",
        "train_total_lines_one_hot = tf.one_hot(train_df['total_lines'][:115000].to_numpy(), depth=19)\n",
        "val_total_lines_one_hot = tf.one_hot(val_df['total_lines'][:20000].to_numpy(), depth=19)\n",
        "test_total_lines_one_hot = tf.one_hot(test_df['total_lines'][:20000].to_numpy(), depth=19)\n",
        "\n",
        "train_total_lines_one_hot.shape, val_total_lines_one_hot.shape, test_total_lines_one_hot[:3]"
      ],
      "metadata": {
        "colab": {
          "base_uri": "https://localhost:8080/"
        },
        "id": "alqdzrRN6p-H",
        "outputId": "be4783bb-345e-41f1-87d5-cf6499baf45a"
      },
      "execution_count": null,
      "outputs": [
        {
          "output_type": "execute_result",
          "data": {
            "text/plain": [
              "(TensorShape([115000, 19]),\n",
              " TensorShape([20000, 19]),\n",
              " <tf.Tensor: shape=(3, 19), dtype=float32, numpy=\n",
              " array([[0., 0., 0., 0., 0., 0., 0., 0., 1., 0., 0., 0., 0., 0., 0., 0.,\n",
              "         0., 0., 0.],\n",
              "        [0., 0., 0., 0., 0., 0., 0., 0., 1., 0., 0., 0., 0., 0., 0., 0.,\n",
              "         0., 0., 0.],\n",
              "        [0., 0., 0., 0., 0., 0., 0., 0., 1., 0., 0., 0., 0., 0., 0., 0.,\n",
              "         0., 0., 0.]], dtype=float32)>)"
            ]
          },
          "metadata": {},
          "execution_count": 104
        }
      ]
    },
    {
      "cell_type": "code",
      "source": [
        "#  BUILDING A MODEL_5 with combining the Four inputs\n",
        "# 1. Create a token-level model\n",
        "# 2. Create a character-level model\n",
        "# 3. Create a model for the 'line_number' feature\n",
        "# 4. Create a model for the 'total_lines' feature\n",
        "# 5. Create the outputs of 1 & 2 using tf.keras.layers.Concatenate\n",
        "# 6. Combine the outputs of 3,4, 5 using tf.keras.layers.Concatenate\n",
        "# 7. Combine the inputs of 1,2, 3, 4 and outputs "
      ],
      "metadata": {
        "id": "LwkhUAdb6qBh"
      },
      "execution_count": null,
      "outputs": []
    },
    {
      "cell_type": "code",
      "source": [
        "# 1. Token inputs\n",
        "token_inputs = layers.Input(shape=[], dtype= tf.string, name='token_inptus')\n",
        "token_embedding = tf_hub_embedding_layer(token_inputs)\n",
        "token_outputs = layers.Dense(128, activation='relu')(token_embedding)\n",
        "token_model = tf.keras.Model(inputs=token_inputs, outputs= token_outputs)\n",
        "# 2. char input\n",
        "char_inputs = layers.Input(shape=(1,), dtype= tf.string, name='char_inputs')\n",
        "char_vectors = char_vectorizer(char_inputs)\n",
        "char_embeddings = char_embed(char_vectors)\n",
        "char_bi_lstm = layers.Bidirectional(layers.LSTM(32,))(char_embeddings)\n",
        "char_model = tf.keras.Model(inputs=char_inputs, outputs= char_bi_lstm)\n",
        "\n",
        "# 3. line_number model\n",
        "line_number_inputs = layers.Input(shape=(16,), dtype=tf.float32, name='line_number_input')\n",
        "x = layers.Dense(32, activation='relu')(line_number_inputs)\n",
        "line_number_model = tf.keras.Model(inputs=line_number_inputs, outputs= x)\n",
        "# 4 Total_line model\n",
        "total_lines_inputs = layers.Input(shape=(19,), dtype= tf.float32, name= 'total_lines_inputs')\n",
        "y = layers.Dense(32, activation= 'relu')(total_lines_inputs)\n",
        "total_lines_model = tf.keras.Model(inputs= total_lines_inputs, outputs= y)\n",
        "\n",
        "# 5. Combine token & char model\n",
        "combined_embedding = layers.Concatenate(name= 'char_token_hybrid_embedding')([token_model.output, char_model.output])\n",
        "z = layers.Dense(256, activation='relu')(combined_embedding)\n",
        "z = layers.Dropout(0.3)(z)\n",
        "# 6. Combine positional embedding with combined token & char embeddings.\n",
        "tribrid_combined = layers.Concatenate(name= 'char_token_positional_embedding')([line_number_model.output, total_lines_model.output, z])\n",
        "\n",
        "output_layer = layers.Dense(5, activation='softmax', name='output_layer')(tribrid_combined)\n",
        "model_5 = tf.keras.Model(inputs= [token_inputs,\n",
        "                                  char_inputs,\n",
        "                                  line_number_inputs,\n",
        "                                  total_lines_inputs ], outputs= output_layer,)\n",
        "\n",
        "# model_5 = tf.keras.Model(inputs=[line_number_model.inputs, total_lines_model.inputs, token_model.inputs, char_model.inputs],\n",
        "#                         outputs= output_layer)"
      ],
      "metadata": {
        "id": "Qaa6Stv1-ZIu"
      },
      "execution_count": null,
      "outputs": []
    },
    {
      "cell_type": "markdown",
      "source": [],
      "metadata": {
        "id": "EPHhzaZeHEgC"
      }
    },
    {
      "cell_type": "code",
      "source": [
        "# \n",
        "# model_5.summary()\n",
        "# plot model_5\n",
        "from tensorflow.keras.utils import plot_model\n",
        "plot_model(model_5)"
      ],
      "metadata": {
        "id": "iWkF8Ieb-ZMD"
      },
      "execution_count": null,
      "outputs": []
    },
    {
      "cell_type": "code",
      "source": [
        "# compile model_5\n",
        "model_5.compile(loss= tf.keras.losses.CategoricalCrossentropy(label_smoothing=0.2),\n",
        "                optimizer= 'adam', metrics=['accuracy'])"
      ],
      "metadata": {
        "id": "FIJSzL3O-ZPZ"
      },
      "execution_count": null,
      "outputs": []
    },
    {
      "cell_type": "code",
      "source": [
        "# Create tensorflow dataset for model_5\n",
        "# creating training & validation dataset\n",
        "\n",
        "train_model_5_data = tf.data.Dataset.from_tensor_slices(( train_sentences, train_chars,\n",
        "                                                         train_line_numbers_one_hot,\n",
        "                                                         train_total_lines_one_hot))\n",
        "train_model_5_label = tf.data.Dataset.from_tensor_slices(train_labels_one_hot)\n",
        "train_model_5_dataset = tf.data.Dataset.zip((train_model_5_data, train_model_5_label))\n",
        "train_model_5_dataset = train_model_5_dataset.batch(32).prefetch(tf.data.AUTOTUNE)\n",
        "\n",
        "val_model_5_data = tf.data.Dataset.from_tensor_slices(( val_sentences, val_chars,\n",
        "                                                       val_line_numbers_one_hot, # Validation data\n",
        "                                                         val_total_lines_one_hot,))\n",
        "val_model_5_label = tf.data.Dataset.from_tensor_slices(val_labels_one_hot)\n",
        "val_model_5_dataset = tf.data.Dataset.zip((val_model_5_data, val_model_5_label))\n",
        "val_model_5_dataset = val_model_5_dataset.batch(32).prefetch(tf.data.AUTOTUNE)"
      ],
      "metadata": {
        "id": "t5J7TgzE-ZSh"
      },
      "execution_count": null,
      "outputs": []
    },
    {
      "cell_type": "code",
      "source": [
        "train_model_5_dataset, val_model_5_dataset"
      ],
      "metadata": {
        "id": "opC4pszcNgoU"
      },
      "execution_count": null,
      "outputs": []
    },
    {
      "cell_type": "code",
      "source": [
        "history = model_5.fit(train_model_5_dataset,\n",
        "                      steps_per_epoch= int(0.1*len(train_model_5_dataset)),epochs=2,\n",
        "                      validation_data= val_model_5_dataset,\n",
        "                      validation_steps= int(0.1*len(val_model_5_dataset)))"
      ],
      "metadata": {
        "colab": {
          "base_uri": "https://localhost:8080/"
        },
        "id": "AgRtfCAk-ZWK",
        "outputId": "faca1d31-a412-49c4-be18-ddd180bab697"
      },
      "execution_count": null,
      "outputs": [
        {
          "output_type": "stream",
          "name": "stdout",
          "text": [
            "Epoch 1/2\n",
            "359/359 [==============================] - 81s 224ms/step - loss: 0.9641 - accuracy: 0.8138 - val_loss: 0.9533 - val_accuracy: 0.8261\n",
            "Epoch 2/2\n",
            "359/359 [==============================] - 84s 234ms/step - loss: 0.9347 - accuracy: 0.8381 - val_loss: 0.9501 - val_accuracy: 0.8271\n"
          ]
        }
      ]
    },
    {
      "cell_type": "code",
      "source": [
        "model_5_pred = model_5.predict(val_model_5_dataset)\n",
        "model_5_pred = tf.argmax(model_5_pred, axis=1)\n",
        "model_5_pred"
      ],
      "metadata": {
        "colab": {
          "base_uri": "https://localhost:8080/"
        },
        "id": "_fwaNkMRM9MZ",
        "outputId": "7ce9a629-25d2-4b84-97f2-66d9211983ce"
      },
      "execution_count": null,
      "outputs": [
        {
          "output_type": "stream",
          "name": "stdout",
          "text": [
            "625/625 [==============================] - 33s 52ms/step\n"
          ]
        },
        {
          "output_type": "execute_result",
          "data": {
            "text/plain": [
              "<tf.Tensor: shape=(20000,), dtype=int64, numpy=array([0, 0, 3, ..., 2, 2, 2])>"
            ]
          },
          "metadata": {},
          "execution_count": 127
        }
      ]
    },
    {
      "cell_type": "code",
      "source": [
        "model_5_results = calculate_results(val_labels_encoded, model_5_pred)\n",
        "model_5_results"
      ],
      "metadata": {
        "colab": {
          "base_uri": "https://localhost:8080/"
        },
        "id": "2CBThbxQM9QC",
        "outputId": "535a9f59-b28f-4400-8d7b-5552590bd9c3"
      },
      "execution_count": null,
      "outputs": [
        {
          "output_type": "execute_result",
          "data": {
            "text/plain": [
              "{'accuracy': 82.525,\n",
              " 'precision': 0.8291903305932797,\n",
              " 'recall': 0.82525,\n",
              " 'f1': 0.8219589881306556}"
            ]
          },
          "metadata": {},
          "execution_count": 138
        }
      ]
    },
    {
      "cell_type": "code",
      "source": [
        "model_4_results "
      ],
      "metadata": {
        "colab": {
          "base_uri": "https://localhost:8080/"
        },
        "id": "8YH8Aa_fM9Tc",
        "outputId": "1d31f520-5ec3-4129-d3e5-006a099b011b"
      },
      "execution_count": null,
      "outputs": [
        {
          "output_type": "execute_result",
          "data": {
            "text/plain": [
              "{'accuracy': 73.42999999999999,\n",
              " 'precision': 0.7294878911483774,\n",
              " 'recall': 0.7343,\n",
              " 'f1': 0.726960954205618}"
            ]
          },
          "metadata": {},
          "execution_count": 139
        }
      ]
    },
    {
      "cell_type": "code",
      "source": [
        "# I got more accuracy with model_5 compare to another models results"
      ],
      "metadata": {
        "id": "eAHNraRHM9W0"
      },
      "execution_count": null,
      "outputs": []
    },
    {
      "cell_type": "code",
      "source": [],
      "metadata": {
        "id": "Svyw_ZY1lSZO"
      },
      "execution_count": null,
      "outputs": []
    }
  ]
}