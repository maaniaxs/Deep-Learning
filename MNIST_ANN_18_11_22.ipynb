{
  "nbformat": 4,
  "nbformat_minor": 0,
  "metadata": {
    "colab": {
      "provenance": [],
      "mount_file_id": "18oTiWZPWDFHrYbXx7yzTq3sWLXJGUNEO",
      "authorship_tag": "ABX9TyNiE9WlzshWvROYM3J7EkkP",
      "include_colab_link": true
    },
    "kernelspec": {
      "name": "python3",
      "display_name": "Python 3"
    },
    "language_info": {
      "name": "python"
    },
    "gpuClass": "standard"
  },
  "cells": [
    {
      "cell_type": "markdown",
      "metadata": {
        "id": "view-in-github",
        "colab_type": "text"
      },
      "source": [
        "<a href=\"https://colab.research.google.com/github/maaniaxs/Deep-Learning/blob/main/MNIST_ANN_18_11_22.ipynb\" target=\"_parent\"><img src=\"https://colab.research.google.com/assets/colab-badge.svg\" alt=\"Open In Colab\"/></a>"
      ]
    },
    {
      "cell_type": "code",
      "source": [],
      "metadata": {
        "id": "Q8TCy9cOZRF2"
      },
      "execution_count": null,
      "outputs": []
    },
    {
      "cell_type": "code",
      "execution_count": 16,
      "metadata": {
        "id": "oZCumuFu_9Qg"
      },
      "outputs": [],
      "source": [
        "import matplotlib.pyplot as plt\n",
        "from keras.layers import Dense, Flatten,Dropout\n",
        "from keras.models import Sequential\n",
        "from keras.utils import to_categorical\n",
        "from keras.datasets import mnist\n",
        "from keras import utils"
      ]
    },
    {
      "cell_type": "code",
      "source": [
        "(x_train, y_train), (x_test, y_test) = mnist.load_data()  # Load the MNIST dataset"
      ],
      "metadata": {
        "colab": {
          "base_uri": "https://localhost:8080/"
        },
        "id": "Snidq9oYAAoZ",
        "outputId": "e28c13dd-cac4-4bad-bcd8-616c2cf524de"
      },
      "execution_count": 2,
      "outputs": [
        {
          "output_type": "stream",
          "name": "stdout",
          "text": [
            "Downloading data from https://storage.googleapis.com/tensorflow/tf-keras-datasets/mnist.npz\n",
            "11490434/11490434 [==============================] - 0s 0us/step\n"
          ]
        }
      ]
    },
    {
      "cell_type": "code",
      "source": [
        "y_test.shape"
      ],
      "metadata": {
        "colab": {
          "base_uri": "https://localhost:8080/"
        },
        "id": "lGbCDW13Aq7u",
        "outputId": "491adc7b-330c-4293-9970-0b9b53ae0a22"
      },
      "execution_count": 3,
      "outputs": [
        {
          "output_type": "execute_result",
          "data": {
            "text/plain": [
              "(10000,)"
            ]
          },
          "metadata": {},
          "execution_count": 3
        }
      ]
    },
    {
      "cell_type": "code",
      "source": [],
      "metadata": {
        "id": "gYuUceTPCEJ8"
      },
      "execution_count": null,
      "outputs": []
    },
    {
      "cell_type": "code",
      "source": [
        "fig, axes = plt.subplots(ncols= 10,sharex=False,sharey=True, figsize=(20,4))\n",
        "for i in range(10):\n",
        "  axes[i].set_title(y_train[i])\n",
        "  axes[i].imshow(x_train[i], cmap='gray')\n",
        "  axes[i].get_xaxis().set_visible(False)\n",
        "\n",
        "plt.show()"
      ],
      "metadata": {
        "colab": {
          "base_uri": "https://localhost:8080/",
          "height": 135
        },
        "id": "6_VBVdZyAq-D",
        "outputId": "d6d40e13-f5a8-4fc4-e710-664f91fb31ab"
      },
      "execution_count": 4,
      "outputs": [
        {
          "output_type": "display_data",
          "data": {
            "text/plain": [
              "<Figure size 1440x288 with 10 Axes>"
            ],
            "image/png": "[encoded data removed]"
          },
          "metadata": {
            "needs_background": "light"
          }
        }
      ]
    },
    {
      "cell_type": "code",
      "source": [
        "y_train = to_categorical(y_train)\n",
        "y_test = to_categorical(y_test)"
      ],
      "metadata": {
        "id": "hGsvbitRB5Hy"
      },
      "execution_count": 5,
      "outputs": []
    },
    {
      "cell_type": "code",
      "source": [
        "# after converting categorical variable\n",
        "print(y_test[3])\n",
        "print(y_test.shape)"
      ],
      "metadata": {
        "colab": {
          "base_uri": "https://localhost:8080/"
        },
        "id": "kWzQ1NarB5KJ",
        "outputId": "a74e5648-fe7b-4982-fff8-77713c39b604"
      },
      "execution_count": 6,
      "outputs": [
        {
          "output_type": "stream",
          "name": "stdout",
          "text": [
            "[1. 0. 0. 0. 0. 0. 0. 0. 0. 0.]\n",
            "(10000, 10)\n"
          ]
        }
      ]
    },
    {
      "cell_type": "code",
      "source": [
        "x_train= x_train/255\n",
        "x_test= x_test/255               ## scaling input-data in (0-1) range"
      ],
      "metadata": {
        "id": "4o3rq_hobcwg"
      },
      "execution_count": 8,
      "outputs": []
    },
    {
      "cell_type": "code",
      "source": [
        "#\n",
        "model= Sequential()\n",
        "model.add(Flatten(input_shape=(28,28)))\n",
        "model.add(Dense(128, activation= 'LeakyReLU'))\n",
        "model.add(Dropout(0.20))\n",
        "model.add(Dense(64, activation= 'LeakyReLU'))\n",
        "model.add(Dense(10, activation= 'softmax'))\n",
        "# compile model\n",
        "model.compile(loss= 'categorical_crossentropy',optimizer='adam', metrics= ['acc'] )\n",
        "model.summary()"
      ],
      "metadata": {
        "colab": {
          "base_uri": "https://localhost:8080/"
        },
        "id": "WiJw3JESB5Ni",
        "outputId": "2a62be60-5a0c-4d27-8864-0e8270a7d7d7"
      },
      "execution_count": 17,
      "outputs": [
        {
          "output_type": "stream",
          "name": "stdout",
          "text": [
            "Model: \"sequential_3\"\n",
            "_________________________________________________________________\n",
            " Layer (type)                Output Shape              Param #   \n",
            "=================================================================\n",
            " flatten_3 (Flatten)         (None, 784)               0         \n",
            "                                                                 \n",
            " dense_9 (Dense)             (None, 128)               100480    \n",
            "                                                                 \n",
            " dropout (Dropout)           (None, 128)               0         \n",
            "                                                                 \n",
            " dense_10 (Dense)            (None, 64)                8256      \n",
            "                                                                 \n",
            " dense_11 (Dense)            (None, 10)                650       \n",
            "                                                                 \n",
            "=================================================================\n",
            "Total params: 109,386\n",
            "Trainable params: 109,386\n",
            "Non-trainable params: 0\n",
            "_________________________________________________________________\n"
          ]
        }
      ]
    },
    {
      "cell_type": "code",
      "source": [
        "utils.plot_model(model, show_shapes=True)"
      ],
      "metadata": {
        "id": "K4WCiBKuKRQR",
        "colab": {
          "base_uri": "https://localhost:8080/",
          "height": 644
        },
        "outputId": "361f31ba-8687-46fe-b3f5-46a4d9c6e0c1"
      },
      "execution_count": 18,
      "outputs": [
        {
          "output_type": "execute_result",
          "data": {
            "image/png": "[encoded data removed]",
            "text/plain": [
              "<IPython.core.display.Image object>"
            ]
          },
          "metadata": {},
          "execution_count": 18
        }
      ]
    },
    {
      "cell_type": "code",
      "source": [
        "model.fit(x_train,y_train, epochs=10, validation_data= (x_test,y_test))"
      ],
      "metadata": {
        "colab": {
          "base_uri": "https://localhost:8080/"
        },
        "id": "CRznuvqiB5iQ",
        "outputId": "3693151f-dae0-4c2b-fa03-96c4124ae697"
      },
      "execution_count": 19,
      "outputs": [
        {
          "output_type": "stream",
          "name": "stdout",
          "text": [
            "Epoch 1/10\n",
            "1875/1875 [==============================] - 9s 4ms/step - loss: 0.2963 - acc: 0.9119 - val_loss: 0.1563 - val_acc: 0.9523\n",
            "Epoch 2/10\n",
            "1875/1875 [==============================] - 8s 4ms/step - loss: 0.1656 - acc: 0.9504 - val_loss: 0.1217 - val_acc: 0.9626\n",
            "Epoch 3/10\n",
            "1875/1875 [==============================] - 8s 4ms/step - loss: 0.1333 - acc: 0.9589 - val_loss: 0.1135 - val_acc: 0.9649\n",
            "Epoch 4/10\n",
            "1875/1875 [==============================] - 8s 4ms/step - loss: 0.1158 - acc: 0.9646 - val_loss: 0.1057 - val_acc: 0.9686\n",
            "Epoch 5/10\n",
            "1875/1875 [==============================] - 7s 4ms/step - loss: 0.1016 - acc: 0.9689 - val_loss: 0.0988 - val_acc: 0.9673\n",
            "Epoch 6/10\n",
            "1875/1875 [==============================] - 7s 4ms/step - loss: 0.0933 - acc: 0.9702 - val_loss: 0.1078 - val_acc: 0.9676\n",
            "Epoch 7/10\n",
            "1875/1875 [==============================] - 7s 4ms/step - loss: 0.0853 - acc: 0.9729 - val_loss: 0.0983 - val_acc: 0.9695\n",
            "Epoch 8/10\n",
            "1875/1875 [==============================] - 7s 4ms/step - loss: 0.0786 - acc: 0.9745 - val_loss: 0.0918 - val_acc: 0.9724\n",
            "Epoch 9/10\n",
            "1875/1875 [==============================] - 7s 4ms/step - loss: 0.0723 - acc: 0.9770 - val_loss: 0.0870 - val_acc: 0.9747\n",
            "Epoch 10/10\n",
            "1875/1875 [==============================] - 7s 4ms/step - loss: 0.0718 - acc: 0.9768 - val_loss: 0.0904 - val_acc: 0.9735\n"
          ]
        },
        {
          "output_type": "execute_result",
          "data": {
            "text/plain": [
              "<keras.callbacks.History at 0x7faa620fce10>"
            ]
          },
          "metadata": {},
          "execution_count": 19
        }
      ]
    },
    {
      "cell_type": "code",
      "source": [],
      "metadata": {
        "id": "4-KvCHMOfQtH"
      },
      "execution_count": null,
      "outputs": []
    },
    {
      "cell_type": "code",
      "source": [],
      "metadata": {
        "id": "XLXFR_rWfQve"
      },
      "execution_count": null,
      "outputs": []
    },
    {
      "cell_type": "code",
      "source": [
        "\n",
        "## with Relu activation function\n",
        "model_2= Sequential()\n",
        "model_2.add(Flatten(input_shape=(28,28)))\n",
        "model_2.add(Dense(128, activation= 'relu'))\n",
        "model.add(Dropout(0.20))\n",
        "model_2.add(Dense(64, activation= 'relu'))\n",
        "model_2.add(Dense(10, activation= 'softmax'))\n",
        "model_2.summary()"
      ],
      "metadata": {
        "colab": {
          "base_uri": "https://localhost:8080/"
        },
        "id": "P2yntYZQAAr8",
        "outputId": "bb664de6-8405-4749-88d4-e20772873a4b"
      },
      "execution_count": 22,
      "outputs": [
        {
          "output_type": "stream",
          "name": "stdout",
          "text": [
            "Model: \"sequential_5\"\n",
            "_________________________________________________________________\n",
            " Layer (type)                Output Shape              Param #   \n",
            "=================================================================\n",
            " flatten_5 (Flatten)         (None, 784)               0         \n",
            "                                                                 \n",
            " dense_15 (Dense)            (None, 128)               100480    \n",
            "                                                                 \n",
            " dense_16 (Dense)            (None, 64)                8256      \n",
            "                                                                 \n",
            " dense_17 (Dense)            (None, 10)                650       \n",
            "                                                                 \n",
            "=================================================================\n",
            "Total params: 109,386\n",
            "Trainable params: 109,386\n",
            "Non-trainable params: 0\n",
            "_________________________________________________________________\n"
          ]
        }
      ]
    },
    {
      "cell_type": "code",
      "source": [
        "model_2.compile(loss= 'categorical_crossentropy',optimizer='adam', metrics= ['acc'] )  # compile model_2\n",
        "\n",
        "history = model_2.fit(x_train,y_train, epochs=10, validation_data= (x_test,y_test))"
      ],
      "metadata": {
        "colab": {
          "base_uri": "https://localhost:8080/"
        },
        "id": "iPk2gTyRAAvG",
        "outputId": "11a2f52d-e451-424b-ea1d-c47cb1d29904"
      },
      "execution_count": 23,
      "outputs": [
        {
          "output_type": "stream",
          "name": "stdout",
          "text": [
            "Epoch 1/10\n",
            "1875/1875 [==============================] - 8s 4ms/step - loss: 0.2415 - acc: 0.9294 - val_loss: 0.1233 - val_acc: 0.9615\n",
            "Epoch 2/10\n",
            "1875/1875 [==============================] - 7s 4ms/step - loss: 0.1016 - acc: 0.9692 - val_loss: 0.0924 - val_acc: 0.9706\n",
            "Epoch 3/10\n",
            "1875/1875 [==============================] - 7s 4ms/step - loss: 0.0708 - acc: 0.9780 - val_loss: 0.0839 - val_acc: 0.9736\n",
            "Epoch 4/10\n",
            "1875/1875 [==============================] - 7s 4ms/step - loss: 0.0546 - acc: 0.9826 - val_loss: 0.0872 - val_acc: 0.9731\n",
            "Epoch 5/10\n",
            "1875/1875 [==============================] - 7s 4ms/step - loss: 0.0427 - acc: 0.9861 - val_loss: 0.0823 - val_acc: 0.9759\n",
            "Epoch 6/10\n",
            "1875/1875 [==============================] - 7s 4ms/step - loss: 0.0346 - acc: 0.9886 - val_loss: 0.0793 - val_acc: 0.9767\n",
            "Epoch 7/10\n",
            "1875/1875 [==============================] - 7s 4ms/step - loss: 0.0298 - acc: 0.9901 - val_loss: 0.0931 - val_acc: 0.9741\n",
            "Epoch 8/10\n",
            "1875/1875 [==============================] - 7s 4ms/step - loss: 0.0254 - acc: 0.9916 - val_loss: 0.0927 - val_acc: 0.9756\n",
            "Epoch 9/10\n",
            "1875/1875 [==============================] - 7s 4ms/step - loss: 0.0221 - acc: 0.9925 - val_loss: 0.1095 - val_acc: 0.9747\n",
            "Epoch 10/10\n",
            "1875/1875 [==============================] - 8s 4ms/step - loss: 0.0188 - acc: 0.9937 - val_loss: 0.0865 - val_acc: 0.9784\n"
          ]
        }
      ]
    },
    {
      "cell_type": "code",
      "source": [
        "import matplotlib.pyplot as plt\n",
        "import tensorflow as tf"
      ],
      "metadata": {
        "id": "7OV4aCeGg2g5"
      },
      "execution_count": 25,
      "outputs": []
    },
    {
      "cell_type": "code",
      "source": [
        "##\n",
        "plt.plot(history.history['acc'], color= 'red', label= 'training')\n",
        "plt.plot(history.history['val_acc'], color= 'k', label= 'test_score')\n",
        "plt.legend()\n",
        "plt.show()"
      ],
      "metadata": {
        "id": "-n7IyNKFRf_v",
        "colab": {
          "base_uri": "https://localhost:8080/",
          "height": 265
        },
        "outputId": "c46efaab-1e65-470f-afdd-16794f5eb734"
      },
      "execution_count": 29,
      "outputs": [
        {
          "output_type": "display_data",
          "data": {
            "text/plain": [
              "<Figure size 432x288 with 1 Axes>"
            ],
            "image/png": "[encoded data removed]"
          },
          "metadata": {
            "needs_background": "light"
          }
        }
      ]
    },
    {
      "cell_type": "code",
      "source": [
        "history.history.keys()"
      ],
      "metadata": {
        "colab": {
          "base_uri": "https://localhost:8080/"
        },
        "id": "B6S4E5UIf-SQ",
        "outputId": "905e6116-f69d-4e7f-a157-f76c7164bfbf"
      },
      "execution_count": 33,
      "outputs": [
        {
          "output_type": "execute_result",
          "data": {
            "text/plain": [
              "dict_keys(['loss', 'acc', 'val_loss', 'val_acc'])"
            ]
          },
          "metadata": {},
          "execution_count": 33
        }
      ]
    },
    {
      "cell_type": "markdown",
      "source": [
        "## Saving the model \n",
        " predict the x_test"
      ],
      "metadata": {
        "id": "wNLCoT0Whwvw"
      }
    },
    {
      "cell_type": "code",
      "source": [
        "model.save('/content/drive/MyDrive/Colab Notebooks/mnist_model.h5')   # model save in google drive"
      ],
      "metadata": {
        "id": "LNmUCXy4Rgi1"
      },
      "execution_count": 35,
      "outputs": []
    },
    {
      "cell_type": "code",
      "source": [
        "import keras\n",
        "model_2 = keras.models.load_model('/content/drive/MyDrive/Colab Notebooks/mnist_model.h5')"
      ],
      "metadata": {
        "id": "Wy-tJsYvRgkx"
      },
      "execution_count": 37,
      "outputs": []
    },
    {
      "cell_type": "code",
      "source": [
        "#\n",
        "plt.imshow(x_test[0], cmap='gray')"
      ],
      "metadata": {
        "id": "5CUMG4kaRgoo",
        "colab": {
          "base_uri": "https://localhost:8080/",
          "height": 283
        },
        "outputId": "5a506094-ec56-4a46-916c-c8a4dd9eef22"
      },
      "execution_count": 39,
      "outputs": [
        {
          "output_type": "execute_result",
          "data": {
            "text/plain": [
              "<matplotlib.image.AxesImage at 0x7faa5a6a0750>"
            ]
          },
          "metadata": {},
          "execution_count": 39
        },
        {
          "output_type": "display_data",
          "data": {
            "text/plain": [
              "<Figure size 432x288 with 1 Axes>"
            ],
            "image/png": "[encoded data removed]"
          },
          "metadata": {
            "needs_background": "light"
          }
        }
      ]
    },
    {
      "cell_type": "code",
      "source": [
        "import numpy as np\n",
        "\n",
        "print(x_test[0].shape)\n",
        "# we have to changed the shape of data for prediction\n",
        "x= np.reshape(x_test[0], (1,28,28))\n",
        "x.shape"
      ],
      "metadata": {
        "id": "iYcsEeGgRgrA",
        "colab": {
          "base_uri": "https://localhost:8080/"
        },
        "outputId": "f201e7d8-a41e-4114-c251-57325ac4a6e1"
      },
      "execution_count": 43,
      "outputs": [
        {
          "output_type": "stream",
          "name": "stdout",
          "text": [
            "(28, 28)\n"
          ]
        },
        {
          "output_type": "execute_result",
          "data": {
            "text/plain": [
              "(1, 28, 28)"
            ]
          },
          "metadata": {},
          "execution_count": 43
        }
      ]
    },
    {
      "cell_type": "code",
      "source": [
        "pred = model_2.predict(x)  # it gives a probability of all classes and which class probability has more that will be our result\n",
        "print(np.argmax(pred))   # "
      ],
      "metadata": {
        "colab": {
          "base_uri": "https://localhost:8080/"
        },
        "id": "D4CqUanTjFZ8",
        "outputId": "2a9a94ed-947c-4a53-a9d5-13ce25b74739"
      },
      "execution_count": 47,
      "outputs": [
        {
          "output_type": "stream",
          "name": "stdout",
          "text": [
            "1/1 [==============================] - 0s 22ms/step\n",
            "7\n"
          ]
        }
      ]
    },
    {
      "cell_type": "code",
      "source": [],
      "metadata": {
        "id": "FM3V1nbVjkrd"
      },
      "execution_count": null,
      "outputs": []
    }
  ]
}