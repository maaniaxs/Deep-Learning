{
 "cells": [
  {
   "cell_type": "code",
   "execution_count": 2,
   "metadata": {
    "id": "oZCumuFu_9Qg"
   },
   "outputs": [],
   "source": [
    "import matplotlib.pyplot as plt\n",
    "from keras.layers import Dense, Flatten\n",
    "from keras.models import Sequential\n",
    "from keras.utils import to_categorical\n",
    "from keras.datasets import mnist\n",
    "from keras import utils"
   ]
  },
  {
   "cell_type": "code",
   "execution_count": 3,
   "metadata": {
    "colab": {
     "base_uri": "https://localhost:8080/"
    },
    "id": "Snidq9oYAAoZ",
    "outputId": "f3e728cd-f0ce-4ef3-8815-f67d2056ac94"
   },
   "outputs": [
    {
     "name": "stdout",
     "output_type": "stream",
     "text": [
      "Downloading data from https://storage.googleapis.com/tensorflow/tf-keras-datasets/mnist.npz\n",
      "11490434/11490434 [==============================] - 0s 0us/step\n"
     ]
    }
   ],
   "source": [
    "(x_train, y_train), (x_test, y_test) = mnist.load_data()"
   ]
  },
  {
   "cell_type": "code",
   "execution_count": 4,
   "metadata": {
    "colab": {
     "base_uri": "https://localhost:8080/"
    },
    "id": "lGbCDW13Aq7u",
    "outputId": "e6c43092-427c-49e1-d75f-5d180326ddaf"
   },
   "outputs": [
    {
     "data": {
      "text/plain": [
       "(10000,)"
      ]
     },
     "execution_count": 4,
     "metadata": {},
     "output_type": "execute_result"
    }
   ],
   "source": [
    "y_test.shape"
   ]
  },
  {
   "cell_type": "code",
   "execution_count": 6,
   "metadata": {
    "id": "gYuUceTPCEJ8"
   },
   "outputs": [],
   "source": []
  },
  {
   "cell_type": "code",
   "execution_count": 10,
   "metadata": {
    "colab": {
     "base_uri": "https://localhost:8080/",
     "height": 145
    },
    "id": "6_VBVdZyAq-D",
    "outputId": "acea9d06-0215-4090-e304-4dc4ea3a1857"
   },
   "outputs": [
    {
     "data": {
      "image/png": "[encoded data removed]",
      "text/plain": [
       "<Figure size 1440x288 with 10 Axes>"
      ]
     },
     "metadata": {
      "needs_background": "light"
     },
     "output_type": "display_data"
    }
   ],
   "source": [
    "fig, axes = plt.subplots(ncols= 10,sharex=False,sharey=True, figsize=(20,4))\n",
    "for i in range(10):\n",
    "  axes[i].set_title(y_train[i])\n",
    "  axes[i].imshow(x_train[i], cmap='gray')\n",
    "  axes[i].get_xaxis().set_visible(False)\n",
    "\n",
    "plt.show()"
   ]
  },
  {
   "cell_type": "code",
   "execution_count": 11,
   "metadata": {
    "id": "hGsvbitRB5Hy"
   },
   "outputs": [],
   "source": [
    "y_train = to_categorical(y_train)\n",
    "y_test = to_categorical(y_test)"
   ]
  },
  {
   "cell_type": "code",
   "execution_count": 16,
   "metadata": {
    "colab": {
     "base_uri": "https://localhost:8080/"
    },
    "id": "kWzQ1NarB5KJ",
    "outputId": "5cd44034-93f0-45f5-b5be-b21d2cd40b15"
   },
   "outputs": [
    {
     "name": "stdout",
     "output_type": "stream",
     "text": [
      "[1. 0. 0. 0. 0. 0. 0. 0. 0. 0.]\n",
      "(10000, 10)\n"
     ]
    }
   ],
   "source": [
    "# after converting categorical variable\n",
    "print(y_test[3])\n",
    "print(y_test.shape)"
   ]
  },
  {
   "cell_type": "code",
   "execution_count": 47,
   "metadata": {
    "colab": {
     "base_uri": "https://localhost:8080/"
    },
    "id": "WiJw3JESB5Ni",
    "outputId": "a7fda1b8-6bee-410d-f28a-971581aa1d53"
   },
   "outputs": [
    {
     "name": "stdout",
     "output_type": "stream",
     "text": [
      "Model: \"sequential_10\"\n",
      "_________________________________________________________________\n",
      " Layer (type)                Output Shape              Param #   \n",
      "=================================================================\n",
      " flatten_10 (Flatten)        (None, 784)               0         \n",
      "                                                                 \n",
      " dense_26 (Dense)            (None, 64)                50240     \n",
      "                                                                 \n",
      " dense_27 (Dense)            (None, 10)                650       \n",
      "                                                                 \n",
      " dense_28 (Dense)            (None, 10)                110       \n",
      "                                                                 \n",
      "=================================================================\n",
      "Total params: 51,000\n",
      "Trainable params: 51,000\n",
      "Non-trainable params: 0\n",
      "_________________________________________________________________\n"
     ]
    }
   ],
   "source": [
    "#\n",
    "model= Sequential()\n",
    "model.add(Flatten(input_shape=(28,28)))\n",
    "model.add(Dense(64, activation= 'LeakyReLU'))\n",
    "model.add(Dense(10, activation= 'LeakyReLU'))\n",
    "model.add(Dense(10, activation= 'softmax'))\n",
    "\n",
    "model.summary()"
   ]
  },
  {
   "cell_type": "code",
   "execution_count": null,
   "metadata": {
    "id": "K4WCiBKuKRQR"
   },
   "outputs": [],
   "source": [
    "utils.plot_model(model, show_shapes=True)"
   ]
  },
  {
   "cell_type": "code",
   "execution_count": 48,
   "metadata": {
    "id": "jMnkjxVPB5f4"
   },
   "outputs": [],
   "source": [
    "model.compile(loss= 'categorical_crossentropy',optimizer='adam', metrics= ['acc'] )"
   ]
  },
  {
   "cell_type": "code",
   "execution_count": 49,
   "metadata": {
    "colab": {
     "base_uri": "https://localhost:8080/"
    },
    "id": "CRznuvqiB5iQ",
    "outputId": "b0e96adb-4068-465b-d86f-91d4b0c60849"
   },
   "outputs": [
    {
     "name": "stdout",
     "output_type": "stream",
     "text": [
      "Epoch 1/12\n",
      "1875/1875 [==============================] - 7s 3ms/step - loss: 1.9276 - acc: 0.8439 - val_loss: 0.4993 - val_acc: 0.9046\n",
      "Epoch 2/12\n",
      "1875/1875 [==============================] - 6s 3ms/step - loss: 0.4878 - acc: 0.9048 - val_loss: 0.5364 - val_acc: 0.8959\n",
      "Epoch 3/12\n",
      "1875/1875 [==============================] - 7s 3ms/step - loss: 0.3628 - acc: 0.9200 - val_loss: 0.4370 - val_acc: 0.9037\n",
      "Epoch 4/12\n",
      "1875/1875 [==============================] - 6s 3ms/step - loss: 0.2773 - acc: 0.9297 - val_loss: 0.2927 - val_acc: 0.9285\n",
      "Epoch 5/12\n",
      "1875/1875 [==============================] - 6s 3ms/step - loss: 0.2459 - acc: 0.9362 - val_loss: 0.2713 - val_acc: 0.9333\n",
      "Epoch 6/12\n",
      "1875/1875 [==============================] - 6s 3ms/step - loss: 0.2164 - acc: 0.9430 - val_loss: 0.2904 - val_acc: 0.9337\n",
      "Epoch 7/12\n",
      "1875/1875 [==============================] - 6s 3ms/step - loss: 0.1914 - acc: 0.9485 - val_loss: 0.1781 - val_acc: 0.9539\n",
      "Epoch 8/12\n",
      "1875/1875 [==============================] - 6s 3ms/step - loss: 0.1692 - acc: 0.9530 - val_loss: 0.2252 - val_acc: 0.9453\n",
      "Epoch 9/12\n",
      "1875/1875 [==============================] - 6s 3ms/step - loss: 0.1542 - acc: 0.9570 - val_loss: 0.1858 - val_acc: 0.9506\n",
      "Epoch 10/12\n",
      "1875/1875 [==============================] - 6s 3ms/step - loss: 0.1451 - acc: 0.9598 - val_loss: 0.1897 - val_acc: 0.9520\n",
      "Epoch 11/12\n",
      "1875/1875 [==============================] - 6s 3ms/step - loss: 0.1287 - acc: 0.9638 - val_loss: 0.1810 - val_acc: 0.9519\n",
      "Epoch 12/12\n",
      "1875/1875 [==============================] - 6s 3ms/step - loss: 0.1209 - acc: 0.9652 - val_loss: 0.1890 - val_acc: 0.9548\n"
     ]
    },
    {
     "data": {
      "text/plain": [
       "<keras.callbacks.History at 0x7fe616a0fe50>"
      ]
     },
     "execution_count": 49,
     "metadata": {},
     "output_type": "execute_result"
    }
   ],
   "source": [
    "model.fit(x_train,y_train, epochs=12, validation_data= (x_test,y_test))"
   ]
  },
  {
   "cell_type": "code",
   "execution_count": 41,
   "metadata": {
    "id": "cyivUdFaB5su"
   },
   "outputs": [],
   "source": [
    "model.save('mnist_model.h5')  # we get 95 percent maximum accuracy with 'LeakyReLU' activation function"
   ]
  },
  {
   "cell_type": "code",
   "execution_count": 42,
   "metadata": {
    "id": "OpMFxwRUB5vL"
   },
   "outputs": [],
   "source": [
    "model.save('/content/drive/MyDrive/Colab Notebooks/mnist_model.h5')   # model save in google drive"
   ]
  },
  {
   "cell_type": "code",
   "execution_count": null,
   "metadata": {
    "id": "kAA_LHewQqI7"
   },
   "outputs": [],
   "source": []
  },
  {
   "cell_type": "code",
   "execution_count": 50,
   "metadata": {
    "colab": {
     "base_uri": "https://localhost:8080/"
    },
    "id": "YspEaiNrArCa",
    "outputId": "4880fea4-caf9-4f3f-ea50-f9495979364b"
   },
   "outputs": [
    {
     "name": "stdout",
     "output_type": "stream",
     "text": [
      "Model: \"sequential_11\"\n",
      "_________________________________________________________________\n",
      " Layer (type)                Output Shape              Param #   \n",
      "=================================================================\n",
      " flatten_11 (Flatten)        (None, 784)               0         \n",
      "                                                                 \n",
      " dense_29 (Dense)            (None, 64)                50240     \n",
      "                                                                 \n",
      " dense_30 (Dense)            (None, 10)                650       \n",
      "                                                                 \n",
      " dense_31 (Dense)            (None, 10)                110       \n",
      "                                                                 \n",
      "=================================================================\n",
      "Total params: 51,000\n",
      "Trainable params: 51,000\n",
      "Non-trainable params: 0\n",
      "_________________________________________________________________\n"
     ]
    }
   ],
   "source": [
    "#  train this model by sigmoid activation function to check how accuracy we get\n",
    "model_2= Sequential()\n",
    "model_2.add(Flatten(input_shape=(28,28)))\n",
    "model_2.add(Dense(64, activation= 'sigmoid'))\n",
    "model_2.add(Dense(10, activation= 'sigmoid'))\n",
    "model_2.add(Dense(10, activation= 'softmax'))\n",
    "model_2.summary()"
   ]
  },
  {
   "cell_type": "code",
   "execution_count": 51,
   "metadata": {
    "colab": {
     "base_uri": "https://localhost:8080/"
    },
    "id": "n5NnVgrOArEz",
    "outputId": "11c48d55-a85d-4323-992c-4a7a500fdea4"
   },
   "outputs": [
    {
     "name": "stdout",
     "output_type": "stream",
     "text": [
      "Epoch 1/12\n",
      "1875/1875 [==============================] - 7s 3ms/step - loss: 1.1103 - acc: 0.7376 - val_loss: 0.6301 - val_acc: 0.8543\n",
      "Epoch 2/12\n",
      "1875/1875 [==============================] - 6s 3ms/step - loss: 0.5399 - acc: 0.8596 - val_loss: 0.4460 - val_acc: 0.8818\n",
      "Epoch 3/12\n",
      "1875/1875 [==============================] - 7s 4ms/step - loss: 0.4262 - acc: 0.8791 - val_loss: 0.3935 - val_acc: 0.8886\n",
      "Epoch 4/12\n",
      "1875/1875 [==============================] - 9s 5ms/step - loss: 0.4070 - acc: 0.8819 - val_loss: 0.4101 - val_acc: 0.8752\n",
      "Epoch 5/12\n",
      "1875/1875 [==============================] - 8s 4ms/step - loss: 0.3704 - acc: 0.8903 - val_loss: 0.3469 - val_acc: 0.8980\n",
      "Epoch 6/12\n",
      "1875/1875 [==============================] - 7s 4ms/step - loss: 0.3534 - acc: 0.8942 - val_loss: 0.3261 - val_acc: 0.9041\n",
      "Epoch 7/12\n",
      "1875/1875 [==============================] - 7s 4ms/step - loss: 0.3358 - acc: 0.8996 - val_loss: 0.3374 - val_acc: 0.9013\n",
      "Epoch 8/12\n",
      "1875/1875 [==============================] - 8s 4ms/step - loss: 0.3275 - acc: 0.9032 - val_loss: 0.3126 - val_acc: 0.9076\n",
      "Epoch 9/12\n",
      "1875/1875 [==============================] - 7s 4ms/step - loss: 0.3236 - acc: 0.9023 - val_loss: 0.3080 - val_acc: 0.9070\n",
      "Epoch 10/12\n",
      "1875/1875 [==============================] - 6s 3ms/step - loss: 0.3017 - acc: 0.9097 - val_loss: 0.2785 - val_acc: 0.9154\n",
      "Epoch 11/12\n",
      "1875/1875 [==============================] - 6s 3ms/step - loss: 0.2945 - acc: 0.9119 - val_loss: 0.3060 - val_acc: 0.9070\n",
      "Epoch 12/12\n",
      "1875/1875 [==============================] - 8s 4ms/step - loss: 0.3016 - acc: 0.9100 - val_loss: 0.3118 - val_acc: 0.9068\n"
     ]
    },
    {
     "data": {
      "text/plain": [
       "<keras.callbacks.History at 0x7fe61bef7cd0>"
      ]
     },
     "execution_count": 51,
     "metadata": {},
     "output_type": "execute_result"
    }
   ],
   "source": [
    "model_2.compile(loss= 'categorical_crossentropy',optimizer='adam', metrics= ['acc'] )\n",
    "model_2.fit(x_train,y_train, epochs=12, validation_data= (x_test,y_test))"
   ]
  },
  {
   "cell_type": "code",
   "execution_count": null,
   "metadata": {
    "id": "FhPwpQgrArHx"
   },
   "outputs": [],
   "source": [
    "## we get maximum accuracy 90 percent with 'sigmoid' activation functions"
   ]
  },
  {
   "cell_type": "code",
   "execution_count": null,
   "metadata": {},
   "outputs": [],
   "source": []
  },
  {
   "cell_type": "code",
   "execution_count": 53,
   "metadata": {
    "colab": {
     "base_uri": "https://localhost:8080/"
    },
    "id": "P2yntYZQAAr8",
    "outputId": "04135408-889e-406f-d4cb-f75b6e4eed59"
   },
   "outputs": [
    {
     "name": "stdout",
     "output_type": "stream",
     "text": [
      "Model: \"sequential_13\"\n",
      "_________________________________________________________________\n",
      " Layer (type)                Output Shape              Param #   \n",
      "=================================================================\n",
      " flatten_13 (Flatten)        (None, 784)               0         \n",
      "                                                                 \n",
      " dense_35 (Dense)            (None, 64)                50240     \n",
      "                                                                 \n",
      " dense_36 (Dense)            (None, 10)                650       \n",
      "                                                                 \n",
      " dense_37 (Dense)            (None, 10)                110       \n",
      "                                                                 \n",
      "=================================================================\n",
      "Total params: 51,000\n",
      "Trainable params: 51,000\n",
      "Non-trainable params: 0\n",
      "_________________________________________________________________\n"
     ]
    }
   ],
   "source": [
    "## with Relu activation function\n",
    "model_3= Sequential()\n",
    "model_3.add(Flatten(input_shape=(28,28)))\n",
    "model_3.add(Dense(64, activation= 'relu'))\n",
    "model_3.add(Dense(10, activation= 'relu'))\n",
    "model_3.add(Dense(10, activation= 'softmax'))\n",
    "model_3.summary()"
   ]
  },
  {
   "cell_type": "code",
   "execution_count": 54,
   "metadata": {
    "colab": {
     "base_uri": "https://localhost:8080/"
    },
    "id": "iPk2gTyRAAvG",
    "outputId": "f00a157d-a829-4ecf-8c01-92f41ca60173"
   },
   "outputs": [
    {
     "name": "stdout",
     "output_type": "stream",
     "text": [
      "Epoch 1/12\n",
      "1875/1875 [==============================] - 8s 4ms/step - loss: 2.2177 - acc: 0.1874 - val_loss: 2.1002 - val_acc: 0.1824\n",
      "Epoch 2/12\n",
      "1875/1875 [==============================] - 6s 3ms/step - loss: 2.0362 - acc: 0.2042 - val_loss: 2.0033 - val_acc: 0.2092\n",
      "Epoch 3/12\n",
      "1875/1875 [==============================] - 6s 3ms/step - loss: 2.0062 - acc: 0.2090 - val_loss: 2.0405 - val_acc: 0.2112\n",
      "Epoch 4/12\n",
      "1875/1875 [==============================] - 6s 3ms/step - loss: 2.0019 - acc: 0.2090 - val_loss: 2.1228 - val_acc: 0.1787\n",
      "Epoch 5/12\n",
      "1875/1875 [==============================] - 6s 3ms/step - loss: 1.9968 - acc: 0.2104 - val_loss: 1.9704 - val_acc: 0.2132\n",
      "Epoch 6/12\n",
      "1875/1875 [==============================] - 8s 4ms/step - loss: 1.9855 - acc: 0.2128 - val_loss: 1.9810 - val_acc: 0.2155\n",
      "Epoch 7/12\n",
      "1875/1875 [==============================] - 6s 3ms/step - loss: 1.9734 - acc: 0.2257 - val_loss: 1.9754 - val_acc: 0.2190\n",
      "Epoch 8/12\n",
      "1875/1875 [==============================] - 6s 3ms/step - loss: 1.9485 - acc: 0.2324 - val_loss: 2.0009 - val_acc: 0.2435\n",
      "Epoch 9/12\n",
      "1875/1875 [==============================] - 6s 3ms/step - loss: 1.9115 - acc: 0.2476 - val_loss: 1.9421 - val_acc: 0.2257\n",
      "Epoch 10/12\n",
      "1875/1875 [==============================] - 7s 4ms/step - loss: 1.8587 - acc: 0.2739 - val_loss: 1.8521 - val_acc: 0.3298\n",
      "Epoch 11/12\n",
      "1875/1875 [==============================] - 8s 5ms/step - loss: 1.7181 - acc: 0.3443 - val_loss: 1.6685 - val_acc: 0.3690\n",
      "Epoch 12/12\n",
      "1875/1875 [==============================] - 10s 5ms/step - loss: 1.4928 - acc: 0.3931 - val_loss: 1.4665 - val_acc: 0.3787\n"
     ]
    },
    {
     "data": {
      "text/plain": [
       "<keras.callbacks.History at 0x7fe61bcb0ed0>"
      ]
     },
     "execution_count": 54,
     "metadata": {},
     "output_type": "execute_result"
    }
   ],
   "source": [
    "model_3.compile(loss= 'categorical_crossentropy',optimizer='adam', metrics= ['acc'] )\n",
    "model_3.fit(x_train,y_train, epochs=12, validation_data= (x_test,y_test))"
   ]
  },
  {
   "cell_type": "code",
   "execution_count": null,
   "metadata": {
    "id": "-n7IyNKFRf_v"
   },
   "outputs": [],
   "source": [
    "# we get ver bad accuracy with 'relu' activation function\n",
    "# best accuracy with 'LeakyReLU' compare to sigmoid  and relu"
   ]
  },
  {
   "cell_type": "code",
   "execution_count": null,
   "metadata": {
    "id": "LNmUCXy4Rgi1"
   },
   "outputs": [],
   "source": []
  },
  {
   "cell_type": "code",
   "execution_count": null,
   "metadata": {
    "id": "Wy-tJsYvRgkx"
   },
   "outputs": [],
   "source": []
  },
  {
   "cell_type": "code",
   "execution_count": null,
   "metadata": {
    "id": "5CUMG4kaRgoo"
   },
   "outputs": [],
   "source": []
  },
  {
   "cell_type": "code",
   "execution_count": null,
   "metadata": {
    "id": "iYcsEeGgRgrA"
   },
   "outputs": [],
   "source": []
  }
 ],
 "metadata": {
  "accelerator": "TPU",
  "colab": {
   "provenance": []
  },
  "gpuClass": "standard",
  "kernelspec": {
   "display_name": "Python 3 (ipykernel)",
   "language": "python",
   "name": "python3"
  },
  "language_info": {
   "codemirror_mode": {
    "name": "ipython",
    "version": 3
   },
   "file_extension": ".py",
   "mimetype": "text/x-python",
   "name": "python",
   "nbconvert_exporter": "python",
   "pygments_lexer": "ipython3",
   "version": "3.9.12"
  }
 },
 "nbformat": 4,
 "nbformat_minor": 1
}
