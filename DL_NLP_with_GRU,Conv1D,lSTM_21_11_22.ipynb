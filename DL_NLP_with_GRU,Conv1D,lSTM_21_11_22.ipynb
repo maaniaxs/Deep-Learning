{
  "nbformat": 4,
  "nbformat_minor": 0,
  "metadata": {
    "colab": {
      "provenance": [],
      "mount_file_id": "1xRUFwujQOajbZO72-rYtE7iuhyK0GTuk",
      "authorship_tag": "ABX9TyMKefywE1F8+JhndWRyj4Vc",
      "include_colab_link": true
    },
    "kernelspec": {
      "name": "python3",
      "display_name": "Python 3"
    },
    "language_info": {
      "name": "python"
    },
    "accelerator": "GPU",
    "gpuClass": "standard"
  },
  "cells": [
    {
      "cell_type": "markdown",
      "metadata": {
        "id": "view-in-github",
        "colab_type": "text"
      },
      "source": [
        "<a href=\"https://colab.research.google.com/github/maaniaxs/Deep-Learning/blob/main/DL_NLP_with_GRU%2CConv1D%2ClSTM_21_11_22.ipynb\" target=\"_parent\"><img src=\"https://colab.research.google.com/assets/colab-badge.svg\" alt=\"Open In Colab\"/></a>"
      ]
    },
    {
      "cell_type": "code",
      "source": [
        "!nvidia-smi -L"
      ],
      "metadata": {
        "colab": {
          "base_uri": "https://localhost:8080/"
        },
        "id": "kM99sRz3i4bW",
        "outputId": "26f91ee7-df7a-46c1-9245-b97c714727e6"
      },
      "execution_count": 17,
      "outputs": [
        {
          "output_type": "stream",
          "name": "stdout",
          "text": [
            "GPU 0: Tesla T4 (UUID: GPU-771c2c68-3161-8dbf-2aa7-54779bc23dcd)\n"
          ]
        }
      ]
    },
    {
      "cell_type": "code",
      "execution_count": 2,
      "metadata": {
        "id": "7r3-frHRsaYJ"
      },
      "outputs": [],
      "source": [
        "import pandas as pd"
      ]
    },
    {
      "cell_type": "code",
      "source": [
        "import zipfile\n",
        "\n",
        "zip_ref = zipfile.ZipFile('/content/drive/MyDrive/nlp_getting_started.zip', \"r\")\n",
        "zip_ref.extractall()\n",
        "zip_ref.close()"
      ],
      "metadata": {
        "id": "t8u-832LtSzI"
      },
      "execution_count": 3,
      "outputs": []
    },
    {
      "cell_type": "code",
      "source": [
        "train = pd.read_csv('/content/train.csv')\n",
        "print(train.shape)\n",
        "train.head()"
      ],
      "metadata": {
        "colab": {
          "base_uri": "https://localhost:8080/",
          "height": 224
        },
        "id": "kPQwN-mPtS1b",
        "outputId": "f3cb4452-83a7-49d1-8a31-79d682c09226"
      },
      "execution_count": 4,
      "outputs": [
        {
          "output_type": "stream",
          "name": "stdout",
          "text": [
            "(7613, 5)\n"
          ]
        },
        {
          "output_type": "execute_result",
          "data": {
            "text/plain": [
              "   id keyword location                                               text  \\\n",
              "0   1     NaN      NaN  Our Deeds are the Reason of this #earthquake M...   \n",
              "1   4     NaN      NaN             Forest fire near La Ronge Sask. Canada   \n",
              "2   5     NaN      NaN  All residents asked to 'shelter in place' are ...   \n",
              "3   6     NaN      NaN  13,000 people receive #wildfires evacuation or...   \n",
              "4   7     NaN      NaN  Just got sent this photo from Ruby #Alaska as ...   \n",
              "\n",
              "   target  \n",
              "0       1  \n",
              "1       1  \n",
              "2       1  \n",
              "3       1  \n",
              "4       1  "
            ],
            "text/html": [
              "\n",
              "  <div id=\"df-468d0e22-2f81-4bfc-b22b-f32ab25508e4\">\n",
              "    <div class=\"colab-df-container\">\n",
              "      <div>\n",
              "<style scoped>\n",
              "    .dataframe tbody tr th:only-of-type {\n",
              "        vertical-align: middle;\n",
              "    }\n",
              "\n",
              "    .dataframe tbody tr th {\n",
              "        vertical-align: top;\n",
              "    }\n",
              "\n",
              "    .dataframe thead th {\n",
              "        text-align: right;\n",
              "    }\n",
              "</style>\n",
              "<table border=\"1\" class=\"dataframe\">\n",
              "  <thead>\n",
              "    <tr style=\"text-align: right;\">\n",
              "      <th></th>\n",
              "      <th>id</th>\n",
              "      <th>keyword</th>\n",
              "      <th>location</th>\n",
              "      <th>text</th>\n",
              "      <th>target</th>\n",
              "    </tr>\n",
              "  </thead>\n",
              "  <tbody>\n",
              "    <tr>\n",
              "      <th>0</th>\n",
              "      <td>1</td>\n",
              "      <td>NaN</td>\n",
              "      <td>NaN</td>\n",
              "      <td>Our Deeds are the Reason of this #earthquake M...</td>\n",
              "      <td>1</td>\n",
              "    </tr>\n",
              "    <tr>\n",
              "      <th>1</th>\n",
              "      <td>4</td>\n",
              "      <td>NaN</td>\n",
              "      <td>NaN</td>\n",
              "      <td>Forest fire near La Ronge Sask. Canada</td>\n",
              "      <td>1</td>\n",
              "    </tr>\n",
              "    <tr>\n",
              "      <th>2</th>\n",
              "      <td>5</td>\n",
              "      <td>NaN</td>\n",
              "      <td>NaN</td>\n",
              "      <td>All residents asked to 'shelter in place' are ...</td>\n",
              "      <td>1</td>\n",
              "    </tr>\n",
              "    <tr>\n",
              "      <th>3</th>\n",
              "      <td>6</td>\n",
              "      <td>NaN</td>\n",
              "      <td>NaN</td>\n",
              "      <td>13,000 people receive #wildfires evacuation or...</td>\n",
              "      <td>1</td>\n",
              "    </tr>\n",
              "    <tr>\n",
              "      <th>4</th>\n",
              "      <td>7</td>\n",
              "      <td>NaN</td>\n",
              "      <td>NaN</td>\n",
              "      <td>Just got sent this photo from Ruby #Alaska as ...</td>\n",
              "      <td>1</td>\n",
              "    </tr>\n",
              "  </tbody>\n",
              "</table>\n",
              "</div>\n",
              "      <button class=\"colab-df-convert\" onclick=\"convertToInteractive('df-468d0e22-2f81-4bfc-b22b-f32ab25508e4')\"\n",
              "              title=\"Convert this dataframe to an interactive table.\"\n",
              "              style=\"display:none;\">\n",
              "        \n",
              "  <svg xmlns=\"http://www.w3.org/2000/svg\" height=\"24px\"viewBox=\"0 0 24 24\"\n",
              "       width=\"24px\">\n",
              "    <path d=\"M0 0h24v24H0V0z\" fill=\"none\"/>\n",
              "    <path d=\"M18.56 5.44l.94 2.06.94-2.06 2.06-.94-2.06-.94-.94-2.06-.94 2.06-2.06.94zm-11 1L8.5 8.5l.94-2.06 2.06-.94-2.06-.94L8.5 2.5l-.94 2.06-2.06.94zm10 10l.94 2.06.94-2.06 2.06-.94-2.06-.94-.94-2.06-.94 2.06-2.06.94z\"/><path d=\"M17.41 7.96l-1.37-1.37c-.4-.4-.92-.59-1.43-.59-.52 0-1.04.2-1.43.59L10.3 9.45l-7.72 7.72c-.78.78-.78 2.05 0 2.83L4 21.41c.39.39.9.59 1.41.59.51 0 1.02-.2 1.41-.59l7.78-7.78 2.81-2.81c.8-.78.8-2.07 0-2.86zM5.41 20L4 18.59l7.72-7.72 1.47 1.35L5.41 20z\"/>\n",
              "  </svg>\n",
              "      </button>\n",
              "      \n",
              "  <style>\n",
              "    .colab-df-container {\n",
              "      display:flex;\n",
              "      flex-wrap:wrap;\n",
              "      gap: 12px;\n",
              "    }\n",
              "\n",
              "    .colab-df-convert {\n",
              "      background-color: #E8F0FE;\n",
              "      border: none;\n",
              "      border-radius: 50%;\n",
              "      cursor: pointer;\n",
              "      display: none;\n",
              "      fill: #1967D2;\n",
              "      height: 32px;\n",
              "      padding: 0 0 0 0;\n",
              "      width: 32px;\n",
              "    }\n",
              "\n",
              "    .colab-df-convert:hover {\n",
              "      background-color: #E2EBFA;\n",
              "      box-shadow: 0px 1px 2px rgba(60, 64, 67, 0.3), 0px 1px 3px 1px rgba(60, 64, 67, 0.15);\n",
              "      fill: #174EA6;\n",
              "    }\n",
              "\n",
              "    [theme=dark] .colab-df-convert {\n",
              "      background-color: #3B4455;\n",
              "      fill: #D2E3FC;\n",
              "    }\n",
              "\n",
              "    [theme=dark] .colab-df-convert:hover {\n",
              "      background-color: #434B5C;\n",
              "      box-shadow: 0px 1px 3px 1px rgba(0, 0, 0, 0.15);\n",
              "      filter: drop-shadow(0px 1px 2px rgba(0, 0, 0, 0.3));\n",
              "      fill: #FFFFFF;\n",
              "    }\n",
              "  </style>\n",
              "\n",
              "      <script>\n",
              "        const buttonEl =\n",
              "          document.querySelector('#df-468d0e22-2f81-4bfc-b22b-f32ab25508e4 button.colab-df-convert');\n",
              "        buttonEl.style.display =\n",
              "          google.colab.kernel.accessAllowed ? 'block' : 'none';\n",
              "\n",
              "        async function convertToInteractive(key) {\n",
              "          const element = document.querySelector('#df-468d0e22-2f81-4bfc-b22b-f32ab25508e4');\n",
              "          const dataTable =\n",
              "            await google.colab.kernel.invokeFunction('convertToInteractive',\n",
              "                                                     [key], {});\n",
              "          if (!dataTable) return;\n",
              "\n",
              "          const docLinkHtml = 'Like what you see? Visit the ' +\n",
              "            '<a target=\"_blank\" href=https://colab.research.google.com/notebooks/data_table.ipynb>data table notebook</a>'\n",
              "            + ' to learn more about interactive tables.';\n",
              "          element.innerHTML = '';\n",
              "          dataTable['output_type'] = 'display_data';\n",
              "          await google.colab.output.renderOutput(dataTable, element);\n",
              "          const docLink = document.createElement('div');\n",
              "          docLink.innerHTML = docLinkHtml;\n",
              "          element.appendChild(docLink);\n",
              "        }\n",
              "      </script>\n",
              "    </div>\n",
              "  </div>\n",
              "  "
            ]
          },
          "metadata": {},
          "execution_count": 4
        }
      ]
    },
    {
      "cell_type": "code",
      "source": [
        "train.target.value_counts()"
      ],
      "metadata": {
        "colab": {
          "base_uri": "https://localhost:8080/"
        },
        "id": "Matef5MYukM9",
        "outputId": "755834c8-df64-4119-8f0c-905c4bbeadd8"
      },
      "execution_count": 5,
      "outputs": [
        {
          "output_type": "execute_result",
          "data": {
            "text/plain": [
              "0    4342\n",
              "1    3271\n",
              "Name: target, dtype: int64"
            ]
          },
          "metadata": {},
          "execution_count": 5
        }
      ]
    },
    {
      "cell_type": "code",
      "source": [],
      "metadata": {
        "id": "LNJ9dC1EvsHr"
      },
      "execution_count": null,
      "outputs": []
    },
    {
      "cell_type": "code",
      "source": [
        "import nltk\n",
        "import re\n",
        "\n",
        "## DATASET PREPROCESSING\n",
        "from nltk.stem.porter import PorterStemmer\n",
        "ps = PorterStemmer()\n",
        "preprocess_text = []\n",
        "for text in train['text']:\n",
        "    #print(i)\n",
        "    review= re.sub(r'http\\S+', ' ', text)\n",
        "    review = re.sub('[^a-zA-Z]', ' ', review)\n",
        "    review= re.sub(r'http\\S+', ' ', review)\n",
        "    review = review.lower()\n",
        "    review = re.sub('\\s+',' ', review)\n",
        "    review = review.split()\n",
        "    \n",
        "    review = [ps.stem(word) for word in review]\n",
        "    review = ' '.join(review)\n",
        "    preprocess_text.append(review)"
      ],
      "metadata": {
        "id": "7J4h6MOuvsOB"
      },
      "execution_count": 6,
      "outputs": []
    },
    {
      "cell_type": "code",
      "source": [
        "print(len(preprocess_text))\n",
        "\n",
        "train['clean_text'] = preprocess_text"
      ],
      "metadata": {
        "colab": {
          "base_uri": "https://localhost:8080/"
        },
        "id": "lFgs7ZAjyJOD",
        "outputId": "fa82109a-7a26-4914-8e4f-9bcc099c3150"
      },
      "execution_count": 7,
      "outputs": [
        {
          "output_type": "stream",
          "name": "stdout",
          "text": [
            "7613\n"
          ]
        }
      ]
    },
    {
      "cell_type": "code",
      "source": [
        "train.head()"
      ],
      "metadata": {
        "colab": {
          "base_uri": "https://localhost:8080/",
          "height": 206
        },
        "id": "tsFKvwz_y-ns",
        "outputId": "ec687308-b8fa-444f-98ed-00c3eb2906f5"
      },
      "execution_count": 103,
      "outputs": [
        {
          "output_type": "execute_result",
          "data": {
            "text/plain": [
              "   id keyword location                                               text  \\\n",
              "0   1     NaN      NaN  Our Deeds are the Reason of this #earthquake M...   \n",
              "1   4     NaN      NaN             Forest fire near La Ronge Sask. Canada   \n",
              "2   5     NaN      NaN  All residents asked to 'shelter in place' are ...   \n",
              "3   6     NaN      NaN  13,000 people receive #wildfires evacuation or...   \n",
              "4   7     NaN      NaN  Just got sent this photo from Ruby #Alaska as ...   \n",
              "\n",
              "   target                                         clean_text  \n",
              "0       1  our deed are the reason of thi earthquak may a...  \n",
              "1       1               forest fire near la rong sask canada  \n",
              "2       1  all resid ask to shelter in place are be notif...  \n",
              "3       1     peopl receiv wildfir evacu order in california  \n",
              "4       1  just got sent thi photo from rubi alaska as sm...  "
            ],
            "text/html": [
              "\n",
              "  <div id=\"df-5a404066-992e-465b-a9e6-ff902c9fe436\">\n",
              "    <div class=\"colab-df-container\">\n",
              "      <div>\n",
              "<style scoped>\n",
              "    .dataframe tbody tr th:only-of-type {\n",
              "        vertical-align: middle;\n",
              "    }\n",
              "\n",
              "    .dataframe tbody tr th {\n",
              "        vertical-align: top;\n",
              "    }\n",
              "\n",
              "    .dataframe thead th {\n",
              "        text-align: right;\n",
              "    }\n",
              "</style>\n",
              "<table border=\"1\" class=\"dataframe\">\n",
              "  <thead>\n",
              "    <tr style=\"text-align: right;\">\n",
              "      <th></th>\n",
              "      <th>id</th>\n",
              "      <th>keyword</th>\n",
              "      <th>location</th>\n",
              "      <th>text</th>\n",
              "      <th>target</th>\n",
              "      <th>clean_text</th>\n",
              "    </tr>\n",
              "  </thead>\n",
              "  <tbody>\n",
              "    <tr>\n",
              "      <th>0</th>\n",
              "      <td>1</td>\n",
              "      <td>NaN</td>\n",
              "      <td>NaN</td>\n",
              "      <td>Our Deeds are the Reason of this #earthquake M...</td>\n",
              "      <td>1</td>\n",
              "      <td>our deed are the reason of thi earthquak may a...</td>\n",
              "    </tr>\n",
              "    <tr>\n",
              "      <th>1</th>\n",
              "      <td>4</td>\n",
              "      <td>NaN</td>\n",
              "      <td>NaN</td>\n",
              "      <td>Forest fire near La Ronge Sask. Canada</td>\n",
              "      <td>1</td>\n",
              "      <td>forest fire near la rong sask canada</td>\n",
              "    </tr>\n",
              "    <tr>\n",
              "      <th>2</th>\n",
              "      <td>5</td>\n",
              "      <td>NaN</td>\n",
              "      <td>NaN</td>\n",
              "      <td>All residents asked to 'shelter in place' are ...</td>\n",
              "      <td>1</td>\n",
              "      <td>all resid ask to shelter in place are be notif...</td>\n",
              "    </tr>\n",
              "    <tr>\n",
              "      <th>3</th>\n",
              "      <td>6</td>\n",
              "      <td>NaN</td>\n",
              "      <td>NaN</td>\n",
              "      <td>13,000 people receive #wildfires evacuation or...</td>\n",
              "      <td>1</td>\n",
              "      <td>peopl receiv wildfir evacu order in california</td>\n",
              "    </tr>\n",
              "    <tr>\n",
              "      <th>4</th>\n",
              "      <td>7</td>\n",
              "      <td>NaN</td>\n",
              "      <td>NaN</td>\n",
              "      <td>Just got sent this photo from Ruby #Alaska as ...</td>\n",
              "      <td>1</td>\n",
              "      <td>just got sent thi photo from rubi alaska as sm...</td>\n",
              "    </tr>\n",
              "  </tbody>\n",
              "</table>\n",
              "</div>\n",
              "      <button class=\"colab-df-convert\" onclick=\"convertToInteractive('df-5a404066-992e-465b-a9e6-ff902c9fe436')\"\n",
              "              title=\"Convert this dataframe to an interactive table.\"\n",
              "              style=\"display:none;\">\n",
              "        \n",
              "  <svg xmlns=\"http://www.w3.org/2000/svg\" height=\"24px\"viewBox=\"0 0 24 24\"\n",
              "       width=\"24px\">\n",
              "    <path d=\"M0 0h24v24H0V0z\" fill=\"none\"/>\n",
              "    <path d=\"M18.56 5.44l.94 2.06.94-2.06 2.06-.94-2.06-.94-.94-2.06-.94 2.06-2.06.94zm-11 1L8.5 8.5l.94-2.06 2.06-.94-2.06-.94L8.5 2.5l-.94 2.06-2.06.94zm10 10l.94 2.06.94-2.06 2.06-.94-2.06-.94-.94-2.06-.94 2.06-2.06.94z\"/><path d=\"M17.41 7.96l-1.37-1.37c-.4-.4-.92-.59-1.43-.59-.52 0-1.04.2-1.43.59L10.3 9.45l-7.72 7.72c-.78.78-.78 2.05 0 2.83L4 21.41c.39.39.9.59 1.41.59.51 0 1.02-.2 1.41-.59l7.78-7.78 2.81-2.81c.8-.78.8-2.07 0-2.86zM5.41 20L4 18.59l7.72-7.72 1.47 1.35L5.41 20z\"/>\n",
              "  </svg>\n",
              "      </button>\n",
              "      \n",
              "  <style>\n",
              "    .colab-df-container {\n",
              "      display:flex;\n",
              "      flex-wrap:wrap;\n",
              "      gap: 12px;\n",
              "    }\n",
              "\n",
              "    .colab-df-convert {\n",
              "      background-color: #E8F0FE;\n",
              "      border: none;\n",
              "      border-radius: 50%;\n",
              "      cursor: pointer;\n",
              "      display: none;\n",
              "      fill: #1967D2;\n",
              "      height: 32px;\n",
              "      padding: 0 0 0 0;\n",
              "      width: 32px;\n",
              "    }\n",
              "\n",
              "    .colab-df-convert:hover {\n",
              "      background-color: #E2EBFA;\n",
              "      box-shadow: 0px 1px 2px rgba(60, 64, 67, 0.3), 0px 1px 3px 1px rgba(60, 64, 67, 0.15);\n",
              "      fill: #174EA6;\n",
              "    }\n",
              "\n",
              "    [theme=dark] .colab-df-convert {\n",
              "      background-color: #3B4455;\n",
              "      fill: #D2E3FC;\n",
              "    }\n",
              "\n",
              "    [theme=dark] .colab-df-convert:hover {\n",
              "      background-color: #434B5C;\n",
              "      box-shadow: 0px 1px 3px 1px rgba(0, 0, 0, 0.15);\n",
              "      filter: drop-shadow(0px 1px 2px rgba(0, 0, 0, 0.3));\n",
              "      fill: #FFFFFF;\n",
              "    }\n",
              "  </style>\n",
              "\n",
              "      <script>\n",
              "        const buttonEl =\n",
              "          document.querySelector('#df-5a404066-992e-465b-a9e6-ff902c9fe436 button.colab-df-convert');\n",
              "        buttonEl.style.display =\n",
              "          google.colab.kernel.accessAllowed ? 'block' : 'none';\n",
              "\n",
              "        async function convertToInteractive(key) {\n",
              "          const element = document.querySelector('#df-5a404066-992e-465b-a9e6-ff902c9fe436');\n",
              "          const dataTable =\n",
              "            await google.colab.kernel.invokeFunction('convertToInteractive',\n",
              "                                                     [key], {});\n",
              "          if (!dataTable) return;\n",
              "\n",
              "          const docLinkHtml = 'Like what you see? Visit the ' +\n",
              "            '<a target=\"_blank\" href=https://colab.research.google.com/notebooks/data_table.ipynb>data table notebook</a>'\n",
              "            + ' to learn more about interactive tables.';\n",
              "          element.innerHTML = '';\n",
              "          dataTable['output_type'] = 'display_data';\n",
              "          await google.colab.output.renderOutput(dataTable, element);\n",
              "          const docLink = document.createElement('div');\n",
              "          docLink.innerHTML = docLinkHtml;\n",
              "          element.appendChild(docLink);\n",
              "        }\n",
              "      </script>\n",
              "    </div>\n",
              "  </div>\n",
              "  "
            ]
          },
          "metadata": {},
          "execution_count": 103
        }
      ]
    },
    {
      "cell_type": "code",
      "source": [
        "# shuffle training data\n",
        "train_df = train.sample(frac=1, random_state=9)\n",
        "train_df.head()"
      ],
      "metadata": {
        "colab": {
          "base_uri": "https://localhost:8080/",
          "height": 206
        },
        "id": "8hjvuG5xvsQX",
        "outputId": "1257bcf5-31a4-4bf8-f213-bd7e58c3c295"
      },
      "execution_count": 8,
      "outputs": [
        {
          "output_type": "execute_result",
          "data": {
            "text/plain": [
              "        id              keyword                location  \\\n",
              "4006  5689               floods             Philippines   \n",
              "2574  3691              destroy                     NaN   \n",
              "1345  1943  burning%20buildings  New Orleans ,Louisiana   \n",
              "4526  6434            hurricane                     NaN   \n",
              "2295  3292             demolish                     NaN   \n",
              "\n",
              "                                                   text  target  \\\n",
              "4006  PAGASA 7:12am: YELLOW warning - Panay Island G...       1   \n",
              "2574  Save your riches in heaven where they will nev...       0   \n",
              "1345  Burning buildings? Media outrage? http://t.co/...       1   \n",
              "4526  Ashley and I on going to hurricane harbor Frid...       1   \n",
              "2295  I have completed the quest 'Demolish 5 Murlo.....       0   \n",
              "\n",
              "                                             clean_text  \n",
              "4006  pagasa am yellow warn panay island guimara neg...  \n",
              "2574  save your rich in heaven where they will never...  \n",
              "1345                            burn build media outrag  \n",
              "4526       ashley and i on go to hurrican harbor friday  \n",
              "2295  i have complet the quest demolish murlo in the...  "
            ],
            "text/html": [
              "\n",
              "  <div id=\"df-b91a3031-2b19-4b12-898c-612078882a6c\">\n",
              "    <div class=\"colab-df-container\">\n",
              "      <div>\n",
              "<style scoped>\n",
              "    .dataframe tbody tr th:only-of-type {\n",
              "        vertical-align: middle;\n",
              "    }\n",
              "\n",
              "    .dataframe tbody tr th {\n",
              "        vertical-align: top;\n",
              "    }\n",
              "\n",
              "    .dataframe thead th {\n",
              "        text-align: right;\n",
              "    }\n",
              "</style>\n",
              "<table border=\"1\" class=\"dataframe\">\n",
              "  <thead>\n",
              "    <tr style=\"text-align: right;\">\n",
              "      <th></th>\n",
              "      <th>id</th>\n",
              "      <th>keyword</th>\n",
              "      <th>location</th>\n",
              "      <th>text</th>\n",
              "      <th>target</th>\n",
              "      <th>clean_text</th>\n",
              "    </tr>\n",
              "  </thead>\n",
              "  <tbody>\n",
              "    <tr>\n",
              "      <th>4006</th>\n",
              "      <td>5689</td>\n",
              "      <td>floods</td>\n",
              "      <td>Philippines</td>\n",
              "      <td>PAGASA 7:12am: YELLOW warning - Panay Island G...</td>\n",
              "      <td>1</td>\n",
              "      <td>pagasa am yellow warn panay island guimara neg...</td>\n",
              "    </tr>\n",
              "    <tr>\n",
              "      <th>2574</th>\n",
              "      <td>3691</td>\n",
              "      <td>destroy</td>\n",
              "      <td>NaN</td>\n",
              "      <td>Save your riches in heaven where they will nev...</td>\n",
              "      <td>0</td>\n",
              "      <td>save your rich in heaven where they will never...</td>\n",
              "    </tr>\n",
              "    <tr>\n",
              "      <th>1345</th>\n",
              "      <td>1943</td>\n",
              "      <td>burning%20buildings</td>\n",
              "      <td>New Orleans ,Louisiana</td>\n",
              "      <td>Burning buildings? Media outrage? http://t.co/...</td>\n",
              "      <td>1</td>\n",
              "      <td>burn build media outrag</td>\n",
              "    </tr>\n",
              "    <tr>\n",
              "      <th>4526</th>\n",
              "      <td>6434</td>\n",
              "      <td>hurricane</td>\n",
              "      <td>NaN</td>\n",
              "      <td>Ashley and I on going to hurricane harbor Frid...</td>\n",
              "      <td>1</td>\n",
              "      <td>ashley and i on go to hurrican harbor friday</td>\n",
              "    </tr>\n",
              "    <tr>\n",
              "      <th>2295</th>\n",
              "      <td>3292</td>\n",
              "      <td>demolish</td>\n",
              "      <td>NaN</td>\n",
              "      <td>I have completed the quest 'Demolish 5 Murlo.....</td>\n",
              "      <td>0</td>\n",
              "      <td>i have complet the quest demolish murlo in the...</td>\n",
              "    </tr>\n",
              "  </tbody>\n",
              "</table>\n",
              "</div>\n",
              "      <button class=\"colab-df-convert\" onclick=\"convertToInteractive('df-b91a3031-2b19-4b12-898c-612078882a6c')\"\n",
              "              title=\"Convert this dataframe to an interactive table.\"\n",
              "              style=\"display:none;\">\n",
              "        \n",
              "  <svg xmlns=\"http://www.w3.org/2000/svg\" height=\"24px\"viewBox=\"0 0 24 24\"\n",
              "       width=\"24px\">\n",
              "    <path d=\"M0 0h24v24H0V0z\" fill=\"none\"/>\n",
              "    <path d=\"M18.56 5.44l.94 2.06.94-2.06 2.06-.94-2.06-.94-.94-2.06-.94 2.06-2.06.94zm-11 1L8.5 8.5l.94-2.06 2.06-.94-2.06-.94L8.5 2.5l-.94 2.06-2.06.94zm10 10l.94 2.06.94-2.06 2.06-.94-2.06-.94-.94-2.06-.94 2.06-2.06.94z\"/><path d=\"M17.41 7.96l-1.37-1.37c-.4-.4-.92-.59-1.43-.59-.52 0-1.04.2-1.43.59L10.3 9.45l-7.72 7.72c-.78.78-.78 2.05 0 2.83L4 21.41c.39.39.9.59 1.41.59.51 0 1.02-.2 1.41-.59l7.78-7.78 2.81-2.81c.8-.78.8-2.07 0-2.86zM5.41 20L4 18.59l7.72-7.72 1.47 1.35L5.41 20z\"/>\n",
              "  </svg>\n",
              "      </button>\n",
              "      \n",
              "  <style>\n",
              "    .colab-df-container {\n",
              "      display:flex;\n",
              "      flex-wrap:wrap;\n",
              "      gap: 12px;\n",
              "    }\n",
              "\n",
              "    .colab-df-convert {\n",
              "      background-color: #E8F0FE;\n",
              "      border: none;\n",
              "      border-radius: 50%;\n",
              "      cursor: pointer;\n",
              "      display: none;\n",
              "      fill: #1967D2;\n",
              "      height: 32px;\n",
              "      padding: 0 0 0 0;\n",
              "      width: 32px;\n",
              "    }\n",
              "\n",
              "    .colab-df-convert:hover {\n",
              "      background-color: #E2EBFA;\n",
              "      box-shadow: 0px 1px 2px rgba(60, 64, 67, 0.3), 0px 1px 3px 1px rgba(60, 64, 67, 0.15);\n",
              "      fill: #174EA6;\n",
              "    }\n",
              "\n",
              "    [theme=dark] .colab-df-convert {\n",
              "      background-color: #3B4455;\n",
              "      fill: #D2E3FC;\n",
              "    }\n",
              "\n",
              "    [theme=dark] .colab-df-convert:hover {\n",
              "      background-color: #434B5C;\n",
              "      box-shadow: 0px 1px 3px 1px rgba(0, 0, 0, 0.15);\n",
              "      filter: drop-shadow(0px 1px 2px rgba(0, 0, 0, 0.3));\n",
              "      fill: #FFFFFF;\n",
              "    }\n",
              "  </style>\n",
              "\n",
              "      <script>\n",
              "        const buttonEl =\n",
              "          document.querySelector('#df-b91a3031-2b19-4b12-898c-612078882a6c button.colab-df-convert');\n",
              "        buttonEl.style.display =\n",
              "          google.colab.kernel.accessAllowed ? 'block' : 'none';\n",
              "\n",
              "        async function convertToInteractive(key) {\n",
              "          const element = document.querySelector('#df-b91a3031-2b19-4b12-898c-612078882a6c');\n",
              "          const dataTable =\n",
              "            await google.colab.kernel.invokeFunction('convertToInteractive',\n",
              "                                                     [key], {});\n",
              "          if (!dataTable) return;\n",
              "\n",
              "          const docLinkHtml = 'Like what you see? Visit the ' +\n",
              "            '<a target=\"_blank\" href=https://colab.research.google.com/notebooks/data_table.ipynb>data table notebook</a>'\n",
              "            + ' to learn more about interactive tables.';\n",
              "          element.innerHTML = '';\n",
              "          dataTable['output_type'] = 'display_data';\n",
              "          await google.colab.output.renderOutput(dataTable, element);\n",
              "          const docLink = document.createElement('div');\n",
              "          docLink.innerHTML = docLinkHtml;\n",
              "          element.appendChild(docLink);\n",
              "        }\n",
              "      </script>\n",
              "    </div>\n",
              "  </div>\n",
              "  "
            ]
          },
          "metadata": {},
          "execution_count": 8
        }
      ]
    },
    {
      "cell_type": "code",
      "source": [
        "\n",
        "## SPLIT DATASET INTO TRAINING AND VALIDATION SET\n",
        "from sklearn.model_selection import train_test_split\n",
        "x_train, x_test, y_train, y_test = train_test_split(train_df['clean_text'].to_numpy(),\n",
        "                                                                           train_df['target'].to_numpy(),\n",
        "                                                                           test_size=0.1, random_state=59)"
      ],
      "metadata": {
        "id": "8krlH5D6vsT2"
      },
      "execution_count": 10,
      "outputs": []
    },
    {
      "cell_type": "code",
      "source": [
        "length = []\n",
        "for i in x_train:\n",
        "  length.append(len(i.split()))\n",
        "total = 0\n",
        "for i in range(0, len(length)):\n",
        "  total = total+ length[i]\n",
        "print(total)"
      ],
      "metadata": {
        "colab": {
          "base_uri": "https://localhost:8080/"
        },
        "id": "rc8SdJZm1Nw1",
        "outputId": "34452da5-0cb1-49d3-f6b9-c68e19f29f99"
      },
      "execution_count": 11,
      "outputs": [
        {
          "output_type": "stream",
          "name": "stdout",
          "text": [
            "97582\n"
          ]
        }
      ]
    },
    {
      "cell_type": "code",
      "source": [],
      "metadata": {
        "id": "KUzw7l2L55Zz"
      },
      "execution_count": null,
      "outputs": []
    },
    {
      "cell_type": "code",
      "source": [
        "##  FOR EXAMPLE PURPOSE\n",
        "from tensorflow.keras.layers.experimental.preprocessing import TextVectorization\n",
        "max_vocab_length = 12500 # maximum number of words to have in our vocabulary\n",
        "max_length= 10  # max length our sequences will be\n",
        "\n",
        "text_vectorizer = TextVectorization(max_tokens= max_vocab_length,\n",
        "                                    output_mode='int',\n",
        "                                    output_sequence_length= max_length)  # each sentence/rows have length 40\n",
        "\n",
        "text_vectorizer.adapt(x_train)\n",
        "\n",
        "vocab_word = text_vectorizer.get_vocabulary() # get all the unique words from our training data\n",
        "print(len(vocab_word))                                 "
      ],
      "metadata": {
        "colab": {
          "base_uri": "https://localhost:8080/"
        },
        "id": "MHWCjrub3ik8",
        "outputId": "0a85f0d8-c356-4013-a38f-959a57479064"
      },
      "execution_count": 12,
      "outputs": [
        {
          "output_type": "stream",
          "name": "stdout",
          "text": [
            "12378\n"
          ]
        }
      ]
    },
    {
      "cell_type": "code",
      "source": [
        "text_vectorizer([x_train[0]])"
      ],
      "metadata": {
        "colab": {
          "base_uri": "https://localhost:8080/"
        },
        "id": "yZ-AhKVY4KZZ",
        "outputId": "cc7f63c3-9ecb-4cbf-b56f-d52fb5aac6eb"
      },
      "execution_count": 76,
      "outputs": [
        {
          "output_type": "execute_result",
          "data": {
            "text/plain": [
              "<tf.Tensor: shape=(1, 10), dtype=int64, numpy=array([[9132,    7,  106,  101,   80,   18,  940, 4883,    0,    0]])>"
            ]
          },
          "metadata": {},
          "execution_count": 76
        }
      ]
    },
    {
      "cell_type": "code",
      "source": [
        "from tensorflow.keras import layers\n",
        "\n",
        "embedding = layers.Embedding(input_dim= max_vocab_length,  # total unique word in vocab\n",
        "                             output_dim = 5,\n",
        "                             input_length= max_length)  # how long is each input"
      ],
      "metadata": {
        "id": "H7Ykso7y4Kbk"
      },
      "execution_count": 75,
      "outputs": []
    },
    {
      "cell_type": "code",
      "source": [
        "embedding(text_vectorizer([x_train[0]]))"
      ],
      "metadata": {
        "colab": {
          "base_uri": "https://localhost:8080/"
        },
        "id": "NhgBpb8b4Ked",
        "outputId": "de9b9b37-085e-4133-ee3e-eb07e062d4cd"
      },
      "execution_count": 77,
      "outputs": [
        {
          "output_type": "execute_result",
          "data": {
            "text/plain": [
              "<tf.Tensor: shape=(1, 10, 5), dtype=float32, numpy=\n",
              "array([[[-0.04233098,  0.00958087, -0.00054305, -0.03273143,\n",
              "         -0.04638107],\n",
              "        [ 0.01337106,  0.03877056,  0.01018842,  0.00706784,\n",
              "          0.02892491],\n",
              "        [-0.00377252, -0.0154649 ,  0.0180533 , -0.01173962,\n",
              "         -0.00289148],\n",
              "        [ 0.005665  , -0.03382754, -0.00183278,  0.04386455,\n",
              "          0.04647653],\n",
              "        [ 0.04644886,  0.01683087,  0.02107463, -0.03872876,\n",
              "         -0.01559917],\n",
              "        [ 0.04752732,  0.04533186, -0.00446985, -0.03416703,\n",
              "         -0.00658041],\n",
              "        [-0.0217394 , -0.03027772, -0.00704242, -0.01765757,\n",
              "         -0.02816783],\n",
              "        [ 0.00456624,  0.00782444, -0.02734802,  0.00179446,\n",
              "          0.02506064],\n",
              "        [-0.01675023, -0.04339694,  0.01792837, -0.04441161,\n",
              "          0.04874155],\n",
              "        [-0.01675023, -0.04339694,  0.01792837, -0.04441161,\n",
              "          0.04874155]]], dtype=float32)>"
            ]
          },
          "metadata": {},
          "execution_count": 77
        }
      ]
    },
    {
      "cell_type": "markdown",
      "source": [
        "# ************"
      ],
      "metadata": {
        "id": "EIJztyn34Kgy"
      }
    },
    {
      "cell_type": "markdown",
      "source": [
        " ## 1 Building model using Tensorflow"
      ],
      "metadata": {
        "id": "6vMbVT0XdjLj"
      }
    },
    {
      "cell_type": "code",
      "source": [
        "## text vectorization\n",
        "from tensorflow.keras.layers.experimental.preprocessing import TextVectorization\n",
        "#max_vocab_length = 12500 # maximum number of words to have in our vocabulary\n",
        "max_length= 35  # max length our sequences will be\n",
        "\n",
        "vectorizer = TextVectorization(max_tokens= None,\n",
        "                                    output_mode='int',\n",
        "                                    output_sequence_length= max_length)  # each sentence/rows have length 40\n",
        "\n",
        "vectorizer.adapt(x_train)\n",
        "\n",
        "vocab_word = vectorizer.get_vocabulary() # get all the unique words from our training data\n",
        "print(len(vocab_word))"
      ],
      "metadata": {
        "colab": {
          "base_uri": "https://localhost:8080/"
        },
        "id": "x8UZKLgg6Emn",
        "outputId": "fda97a88-0955-4853-d263-802fa8fddafd"
      },
      "execution_count": 13,
      "outputs": [
        {
          "output_type": "stream",
          "name": "stdout",
          "text": [
            "12378\n"
          ]
        }
      ]
    },
    {
      "cell_type": "code",
      "source": [
        "from tensorflow.keras import layers\n",
        "\n",
        "Embedding = layers.Embedding(input_dim= 12378,  # total unique word in vocab\n",
        "                             output_dim = 24,\n",
        "                             input_length= max_length)  # how long is each input"
      ],
      "metadata": {
        "id": "KeT7J3WC6Eo9"
      },
      "execution_count": 14,
      "outputs": []
    },
    {
      "cell_type": "code",
      "source": [
        "#                       1\n",
        "# create as LSTM model\n",
        "import tensorflow as tf\n",
        "from tensorflow.keras import layers\n",
        "inputs = layers.Input(shape= (1,), dtype= 'string')\n",
        "x= vectorizer(inputs)\n",
        "x= Embedding(x)\n",
        "print(x.shape)\n",
        "x= layers.LSTM(128, activation='tanh')(x)  # if return_sequence=True then we add one LSTM layer with (return_sequences=False)\n",
        "#print(x.shape)\n",
        "#x= layers.LSTM(24, activation= 'LeakyRelu')(x)       ## GRU & 1D Pooling layer can also be used instead \n",
        "print(x.shape)\n",
        "x= layers.Dense(64, activation='relu')(x)\n",
        "print(x.shape)\n",
        "outputs= layers.Dense(1, activation='sigmoid')(x)\n",
        "print(outputs.shape)\n",
        "model_2 = tf.keras.Model(inputs, outputs, name= 'model_2_LSTM')\n",
        "\n",
        "# compile model\n",
        "model_2.compile(loss= 'binary_crossentropy', optimizer = 'adam', metrics= ['accuracy'])\n",
        "\n",
        "model_2.summary()"
      ],
      "metadata": {
        "colab": {
          "base_uri": "https://localhost:8080/"
        },
        "id": "_DHvYXYx6TgK",
        "outputId": "0d50be1f-154f-4f4c-fdb6-3fa249560853"
      },
      "execution_count": 15,
      "outputs": [
        {
          "output_type": "stream",
          "name": "stdout",
          "text": [
            "(None, 35, 24)\n",
            "(None, 128)\n",
            "(None, 64)\n",
            "(None, 1)\n",
            "Model: \"model_2_LSTM\"\n",
            "_________________________________________________________________\n",
            " Layer (type)                Output Shape              Param #   \n",
            "=================================================================\n",
            " input_2 (InputLayer)        [(None, 1)]               0         \n",
            "                                                                 \n",
            " text_vectorization_2 (TextV  (None, 35)               0         \n",
            " ectorization)                                                   \n",
            "                                                                 \n",
            " embedding (Embedding)       (None, 35, 24)            297072    \n",
            "                                                                 \n",
            " lstm (LSTM)                 (None, 128)               78336     \n",
            "                                                                 \n",
            " dense (Dense)               (None, 64)                8256      \n",
            "                                                                 \n",
            " dense_1 (Dense)             (None, 1)                 65        \n",
            "                                                                 \n",
            "=================================================================\n",
            "Total params: 383,729\n",
            "Trainable params: 383,729\n",
            "Non-trainable params: 0\n",
            "_________________________________________________________________\n"
          ]
        }
      ]
    },
    {
      "cell_type": "code",
      "source": [
        "model_2.fit(x_train, y_train, epochs=5, validation_data= (x_test, y_test))"
      ],
      "metadata": {
        "colab": {
          "base_uri": "https://localhost:8080/"
        },
        "id": "p4YApHqH6YtB",
        "outputId": "9148612e-eec3-4c34-affa-e1e3e933af9d"
      },
      "execution_count": 16,
      "outputs": [
        {
          "output_type": "stream",
          "name": "stdout",
          "text": [
            "Epoch 1/5\n",
            "215/215 [==============================] - 8s 10ms/step - loss: 0.6169 - accuracy: 0.6548 - val_loss: 0.5125 - val_accuracy: 0.7533\n",
            "Epoch 2/5\n",
            "215/215 [==============================] - 2s 7ms/step - loss: 0.3615 - accuracy: 0.8577 - val_loss: 0.6674 - val_accuracy: 0.7625\n",
            "Epoch 3/5\n",
            "215/215 [==============================] - 2s 7ms/step - loss: 0.2394 - accuracy: 0.9127 - val_loss: 0.5194 - val_accuracy: 0.7428\n",
            "Epoch 4/5\n",
            "215/215 [==============================] - 2s 8ms/step - loss: 0.1758 - accuracy: 0.9442 - val_loss: 0.7343 - val_accuracy: 0.7310\n",
            "Epoch 5/5\n",
            "215/215 [==============================] - 2s 8ms/step - loss: 0.1395 - accuracy: 0.9568 - val_loss: 0.7719 - val_accuracy: 0.7310\n"
          ]
        },
        {
          "output_type": "execute_result",
          "data": {
            "text/plain": [
              "<keras.callbacks.History at 0x7ff3164d1fd0>"
            ]
          },
          "metadata": {},
          "execution_count": 16
        }
      ]
    },
    {
      "cell_type": "code",
      "source": [
        "# Function to evaluate: accuracy, precision, recall, f1-score\n",
        "from sklearn.metrics import accuracy_score, precision_recall_fscore_support\n",
        "def calculate_results(y_true, y_pred):\n",
        "  \n",
        "  # Calculate model accuracy\n",
        "  model_accuracy = accuracy_score(y_true, y_pred) * 100\n",
        "  # Calculate model precision, recall and f1 score using \"weighted average\n",
        "  model_precision, model_recall, model_f1, _ = precision_recall_fscore_support(y_true, y_pred, average=\"weighted\")\n",
        "  model_results = {\"accuracy\": model_accuracy,\n",
        "                  \"precision\": model_precision,\n",
        "                  \"recall\": model_recall,\n",
        "                  \"f1\": model_f1}\n",
        "  return model_results"
      ],
      "metadata": {
        "id": "YLaIl72Hejxd"
      },
      "execution_count": 18,
      "outputs": []
    },
    {
      "cell_type": "code",
      "source": [
        "## Evaluating and make prediction with our model\n",
        "model_pred  = model_2.predict(x_test)\n",
        "\n",
        "model_pred = tf.squeeze(tf.round(model_pred))\n",
        "# calculate model result\n",
        "model_results= calculate_results(y_test, model_pred)\n",
        "model_results"
      ],
      "metadata": {
        "colab": {
          "base_uri": "https://localhost:8080/"
        },
        "id": "uW1cnNQuejzz",
        "outputId": "1c65f720-eacc-409f-99c4-775778bfd22b"
      },
      "execution_count": 19,
      "outputs": [
        {
          "output_type": "stream",
          "name": "stdout",
          "text": [
            "24/24 [==============================] - 0s 3ms/step\n"
          ]
        },
        {
          "output_type": "execute_result",
          "data": {
            "text/plain": [
              "{'accuracy': 73.0971128608924,\n",
              " 'precision': 0.7313749751551716,\n",
              " 'recall': 0.7309711286089239,\n",
              " 'f1': 0.7285621269606322}"
            ]
          },
          "metadata": {},
          "execution_count": 19
        }
      ]
    },
    {
      "cell_type": "code",
      "source": [],
      "metadata": {
        "id": "kyOVylQoe6Iu"
      },
      "execution_count": null,
      "outputs": []
    },
    {
      "cell_type": "code",
      "source": [
        "#                       2nd Model Building with GRU layers\n",
        "#\n",
        "import tensorflow as tf\n",
        "from tensorflow.keras import layers\n",
        "inputs = layers.Input(shape= (1,), dtype= 'string')\n",
        "x= vectorizer(inputs)\n",
        "x= Embedding(x)\n",
        "print(x.shape)\n",
        "x = layers.GRU(72, return_sequences=True)(x)\n",
        "print(x.shape)\n",
        "x = layers.GlobalMaxPool1D()(x)                        # GRU with (return_sequences=Fasle) layers can also be used instead\n",
        "x= layers.Dense(24, activation='relu')(x)\n",
        "print(x.shape)\n",
        "outputs= layers.Dense(1, activation='sigmoid')(x)\n",
        "print(outputs.shape)\n",
        "model_3 = tf.keras.Model(inputs, outputs)\n",
        "\n",
        "# compile model\n",
        "model_3.compile(loss= 'binary_crossentropy', optimizer = 'adam', metrics= ['accuracy'])\n",
        "model_3.summary()  # Model summary"
      ],
      "metadata": {
        "colab": {
          "base_uri": "https://localhost:8080/"
        },
        "id": "y9zbr7sC6YwX",
        "outputId": "62891a79-1054-4770-85a0-c435d3ee05a6"
      },
      "execution_count": 34,
      "outputs": [
        {
          "output_type": "stream",
          "name": "stdout",
          "text": [
            "(None, 35, 24)\n",
            "(None, 35, 72)\n",
            "(None, 24)\n",
            "(None, 1)\n",
            "Model: \"model_4\"\n",
            "_________________________________________________________________\n",
            " Layer (type)                Output Shape              Param #   \n",
            "=================================================================\n",
            " input_11 (InputLayer)       [(None, 1)]               0         \n",
            "                                                                 \n",
            " text_vectorization_2 (TextV  (None, 35)               0         \n",
            " ectorization)                                                   \n",
            "                                                                 \n",
            " embedding (Embedding)       (None, 35, 24)            297072    \n",
            "                                                                 \n",
            " gru_7 (GRU)                 (None, 35, 72)            21168     \n",
            "                                                                 \n",
            " global_max_pooling1d_1 (Glo  (None, 72)               0         \n",
            " balMaxPooling1D)                                                \n",
            "                                                                 \n",
            " dense_12 (Dense)            (None, 24)                1752      \n",
            "                                                                 \n",
            " dense_13 (Dense)            (None, 1)                 25        \n",
            "                                                                 \n",
            "=================================================================\n",
            "Total params: 320,017\n",
            "Trainable params: 320,017\n",
            "Non-trainable params: 0\n",
            "_________________________________________________________________\n"
          ]
        }
      ]
    },
    {
      "cell_type": "code",
      "source": [
        "# fit the model\n",
        "model_3.fit(x_train, y_train, epochs=10, validation_data= (x_test, y_test))"
      ],
      "metadata": {
        "colab": {
          "base_uri": "https://localhost:8080/"
        },
        "id": "fm_dvCjH6Y46",
        "outputId": "53e80611-4a21-4b59-9e31-28e8eed98f0c"
      },
      "execution_count": 35,
      "outputs": [
        {
          "output_type": "stream",
          "name": "stdout",
          "text": [
            "Epoch 1/10\n",
            "215/215 [==============================] - 4s 9ms/step - loss: 0.1711 - accuracy: 0.9571 - val_loss: 0.9989 - val_accuracy: 0.7113\n",
            "Epoch 2/10\n",
            "215/215 [==============================] - 2s 7ms/step - loss: 0.0498 - accuracy: 0.9818 - val_loss: 1.1853 - val_accuracy: 0.6929\n",
            "Epoch 3/10\n",
            "215/215 [==============================] - 1s 7ms/step - loss: 0.0423 - accuracy: 0.9825 - val_loss: 1.3316 - val_accuracy: 0.7152\n",
            "Epoch 4/10\n",
            "215/215 [==============================] - 1s 7ms/step - loss: 0.0389 - accuracy: 0.9826 - val_loss: 1.2636 - val_accuracy: 0.7060\n",
            "Epoch 5/10\n",
            "215/215 [==============================] - 1s 7ms/step - loss: 0.0366 - accuracy: 0.9839 - val_loss: 1.6478 - val_accuracy: 0.6759\n",
            "Epoch 6/10\n",
            "215/215 [==============================] - 1s 7ms/step - loss: 0.0355 - accuracy: 0.9828 - val_loss: 1.4541 - val_accuracy: 0.6942\n",
            "Epoch 7/10\n",
            "215/215 [==============================] - 2s 7ms/step - loss: 0.0349 - accuracy: 0.9844 - val_loss: 1.4060 - val_accuracy: 0.7047\n",
            "Epoch 8/10\n",
            "215/215 [==============================] - 2s 7ms/step - loss: 0.0316 - accuracy: 0.9845 - val_loss: 1.7903 - val_accuracy: 0.6903\n",
            "Epoch 9/10\n",
            "215/215 [==============================] - 1s 7ms/step - loss: 0.0328 - accuracy: 0.9847 - val_loss: 1.5384 - val_accuracy: 0.7165\n",
            "Epoch 10/10\n",
            "215/215 [==============================] - 1s 7ms/step - loss: 0.0327 - accuracy: 0.9848 - val_loss: 1.7542 - val_accuracy: 0.7047\n"
          ]
        },
        {
          "output_type": "execute_result",
          "data": {
            "text/plain": [
              "<keras.callbacks.History at 0x7ff2b4e701d0>"
            ]
          },
          "metadata": {},
          "execution_count": 35
        }
      ]
    },
    {
      "cell_type": "code",
      "source": [
        "\n",
        " #                               Build a Conv1D model_5 \n",
        "from tensorflow.keras import layers\n",
        "inputs = layers.Input(shape=(1,), dtype='string')\n",
        "x= vectorizer(inputs)\n",
        "x = Embedding(x)\n",
        "x = layers.Conv1D(filters=128, kernel_size=4, strides=1, padding='valid')(x)\n",
        "#x = layers.Conv1D(filters=128, kernel_size=4)(x)\n",
        "\n",
        "x = layers.GlobalAveragePooling1D()(x)\n",
        "#x = layers.LSTM(64)(x)            # this layer can also be used instead of GlobalAveragePooling1D layer\n",
        "x = layers.Dense(32, activation= 'relu')(x)\n",
        "outputs = layers.Dense(1, activation= 'sigmoid')(x)\n",
        "model_5 = tf.keras.Model(inputs, outputs, name = 'model_5_Conv1D')\n",
        "\n",
        "# compile model_5\n",
        "model_5.compile(loss= 'binary_crossentropy', optimizer= tf.keras.optimizers.Adam(), metrics=['accuracy'])\n",
        "#\n",
        "model_5.summary()"
      ],
      "metadata": {
        "colab": {
          "base_uri": "https://localhost:8080/"
        },
        "id": "axG8s6fLEscq",
        "outputId": "5dc30649-2b30-4ecd-94f8-54ce4e284745"
      },
      "execution_count": 38,
      "outputs": [
        {
          "output_type": "stream",
          "name": "stdout",
          "text": [
            "Model: \"model_5_Conv1D\"\n",
            "_________________________________________________________________\n",
            " Layer (type)                Output Shape              Param #   \n",
            "=================================================================\n",
            " input_13 (InputLayer)       [(None, 1)]               0         \n",
            "                                                                 \n",
            " text_vectorization_2 (TextV  (None, 35)               0         \n",
            " ectorization)                                                   \n",
            "                                                                 \n",
            " embedding (Embedding)       (None, 35, 24)            297072    \n",
            "                                                                 \n",
            " conv1d_7 (Conv1D)           (None, 32, 128)           12416     \n",
            "                                                                 \n",
            " global_average_pooling1d_2   (None, 128)              0         \n",
            " (GlobalAveragePooling1D)                                        \n",
            "                                                                 \n",
            " dense_16 (Dense)            (None, 32)                4128      \n",
            "                                                                 \n",
            " dense_17 (Dense)            (None, 1)                 33        \n",
            "                                                                 \n",
            "=================================================================\n",
            "Total params: 313,649\n",
            "Trainable params: 313,649\n",
            "Non-trainable params: 0\n",
            "_________________________________________________________________\n"
          ]
        }
      ]
    },
    {
      "cell_type": "code",
      "source": [
        "# fit the model\n",
        "model_5.fit(x_train, y_train, epochs=6, validation_data= (x_test, y_test))"
      ],
      "metadata": {
        "colab": {
          "base_uri": "https://localhost:8080/"
        },
        "id": "xA7QHKirLNJx",
        "outputId": "702fc1e2-99c1-4cd3-d290-89d1382e1237"
      },
      "execution_count": 39,
      "outputs": [
        {
          "output_type": "stream",
          "name": "stdout",
          "text": [
            "Epoch 1/6\n",
            "215/215 [==============================] - 2s 6ms/step - loss: 0.1347 - accuracy: 0.9715 - val_loss: 1.1788 - val_accuracy: 0.7073\n",
            "Epoch 2/6\n",
            "215/215 [==============================] - 1s 5ms/step - loss: 0.0493 - accuracy: 0.9804 - val_loss: 1.3078 - val_accuracy: 0.7218\n",
            "Epoch 3/6\n",
            "215/215 [==============================] - 1s 5ms/step - loss: 0.0422 - accuracy: 0.9828 - val_loss: 1.4368 - val_accuracy: 0.7139\n",
            "Epoch 4/6\n",
            "215/215 [==============================] - 1s 5ms/step - loss: 0.0399 - accuracy: 0.9823 - val_loss: 1.3849 - val_accuracy: 0.7100\n",
            "Epoch 5/6\n",
            "215/215 [==============================] - 1s 5ms/step - loss: 0.0386 - accuracy: 0.9829 - val_loss: 1.4526 - val_accuracy: 0.7073\n",
            "Epoch 6/6\n",
            "215/215 [==============================] - 1s 5ms/step - loss: 0.0369 - accuracy: 0.9835 - val_loss: 1.4196 - val_accuracy: 0.6929\n"
          ]
        },
        {
          "output_type": "execute_result",
          "data": {
            "text/plain": [
              "<keras.callbacks.History at 0x7ff2fe5a53d0>"
            ]
          },
          "metadata": {},
          "execution_count": 39
        }
      ]
    },
    {
      "cell_type": "code",
      "source": [
        "## If we do better text preprocessing then we could get good accuracy    "
      ],
      "metadata": {
        "id": "_7wXCkoOLNMI"
      },
      "execution_count": null,
      "outputs": []
    },
    {
      "cell_type": "markdown",
      "source": [
        "# #  BUILD TENSORFLOW MODEL TO ANOTHER WAY\n"
      ],
      "metadata": {
        "id": "OstXOGpBLA9X"
      }
    },
    {
      "cell_type": "code",
      "source": [
        "train_df.reset_index(drop=True, inplace=True)\n",
        "train_df.drop(['keyword', 'location'], axis=1, inplace=True)\n",
        "train_df.head()"
      ],
      "metadata": {
        "colab": {
          "base_uri": "https://localhost:8080/",
          "height": 206
        },
        "id": "24FLioA3PWoZ",
        "outputId": "ef491c3a-b32c-461f-95be-aaafa1a909c5"
      },
      "execution_count": 190,
      "outputs": [
        {
          "output_type": "execute_result",
          "data": {
            "text/plain": [
              "     id                                               text  target  \\\n",
              "0  5689  PAGASA 7:12am: YELLOW warning - Panay Island G...       1   \n",
              "1  3691  Save your riches in heaven where they will nev...       0   \n",
              "2  1943  Burning buildings? Media outrage? http://t.co/...       1   \n",
              "3  6434  Ashley and I on going to hurricane harbor Frid...       1   \n",
              "4  3292  I have completed the quest 'Demolish 5 Murlo.....       0   \n",
              "\n",
              "                                          clean_text  \n",
              "0  pagasa am yellow warn panay island guimara neg...  \n",
              "1  save your rich in heaven where they will never...  \n",
              "2                            burn build media outrag  \n",
              "3       ashley and i on go to hurrican harbor friday  \n",
              "4  i have complet the quest demolish murlo in the...  "
            ],
            "text/html": [
              "\n",
              "  <div id=\"df-e62d4348-60b7-41b2-a2c6-a985cdaf0833\">\n",
              "    <div class=\"colab-df-container\">\n",
              "      <div>\n",
              "<style scoped>\n",
              "    .dataframe tbody tr th:only-of-type {\n",
              "        vertical-align: middle;\n",
              "    }\n",
              "\n",
              "    .dataframe tbody tr th {\n",
              "        vertical-align: top;\n",
              "    }\n",
              "\n",
              "    .dataframe thead th {\n",
              "        text-align: right;\n",
              "    }\n",
              "</style>\n",
              "<table border=\"1\" class=\"dataframe\">\n",
              "  <thead>\n",
              "    <tr style=\"text-align: right;\">\n",
              "      <th></th>\n",
              "      <th>id</th>\n",
              "      <th>text</th>\n",
              "      <th>target</th>\n",
              "      <th>clean_text</th>\n",
              "    </tr>\n",
              "  </thead>\n",
              "  <tbody>\n",
              "    <tr>\n",
              "      <th>0</th>\n",
              "      <td>5689</td>\n",
              "      <td>PAGASA 7:12am: YELLOW warning - Panay Island G...</td>\n",
              "      <td>1</td>\n",
              "      <td>pagasa am yellow warn panay island guimara neg...</td>\n",
              "    </tr>\n",
              "    <tr>\n",
              "      <th>1</th>\n",
              "      <td>3691</td>\n",
              "      <td>Save your riches in heaven where they will nev...</td>\n",
              "      <td>0</td>\n",
              "      <td>save your rich in heaven where they will never...</td>\n",
              "    </tr>\n",
              "    <tr>\n",
              "      <th>2</th>\n",
              "      <td>1943</td>\n",
              "      <td>Burning buildings? Media outrage? http://t.co/...</td>\n",
              "      <td>1</td>\n",
              "      <td>burn build media outrag</td>\n",
              "    </tr>\n",
              "    <tr>\n",
              "      <th>3</th>\n",
              "      <td>6434</td>\n",
              "      <td>Ashley and I on going to hurricane harbor Frid...</td>\n",
              "      <td>1</td>\n",
              "      <td>ashley and i on go to hurrican harbor friday</td>\n",
              "    </tr>\n",
              "    <tr>\n",
              "      <th>4</th>\n",
              "      <td>3292</td>\n",
              "      <td>I have completed the quest 'Demolish 5 Murlo.....</td>\n",
              "      <td>0</td>\n",
              "      <td>i have complet the quest demolish murlo in the...</td>\n",
              "    </tr>\n",
              "  </tbody>\n",
              "</table>\n",
              "</div>\n",
              "      <button class=\"colab-df-convert\" onclick=\"convertToInteractive('df-e62d4348-60b7-41b2-a2c6-a985cdaf0833')\"\n",
              "              title=\"Convert this dataframe to an interactive table.\"\n",
              "              style=\"display:none;\">\n",
              "        \n",
              "  <svg xmlns=\"http://www.w3.org/2000/svg\" height=\"24px\"viewBox=\"0 0 24 24\"\n",
              "       width=\"24px\">\n",
              "    <path d=\"M0 0h24v24H0V0z\" fill=\"none\"/>\n",
              "    <path d=\"M18.56 5.44l.94 2.06.94-2.06 2.06-.94-2.06-.94-.94-2.06-.94 2.06-2.06.94zm-11 1L8.5 8.5l.94-2.06 2.06-.94-2.06-.94L8.5 2.5l-.94 2.06-2.06.94zm10 10l.94 2.06.94-2.06 2.06-.94-2.06-.94-.94-2.06-.94 2.06-2.06.94z\"/><path d=\"M17.41 7.96l-1.37-1.37c-.4-.4-.92-.59-1.43-.59-.52 0-1.04.2-1.43.59L10.3 9.45l-7.72 7.72c-.78.78-.78 2.05 0 2.83L4 21.41c.39.39.9.59 1.41.59.51 0 1.02-.2 1.41-.59l7.78-7.78 2.81-2.81c.8-.78.8-2.07 0-2.86zM5.41 20L4 18.59l7.72-7.72 1.47 1.35L5.41 20z\"/>\n",
              "  </svg>\n",
              "      </button>\n",
              "      \n",
              "  <style>\n",
              "    .colab-df-container {\n",
              "      display:flex;\n",
              "      flex-wrap:wrap;\n",
              "      gap: 12px;\n",
              "    }\n",
              "\n",
              "    .colab-df-convert {\n",
              "      background-color: #E8F0FE;\n",
              "      border: none;\n",
              "      border-radius: 50%;\n",
              "      cursor: pointer;\n",
              "      display: none;\n",
              "      fill: #1967D2;\n",
              "      height: 32px;\n",
              "      padding: 0 0 0 0;\n",
              "      width: 32px;\n",
              "    }\n",
              "\n",
              "    .colab-df-convert:hover {\n",
              "      background-color: #E2EBFA;\n",
              "      box-shadow: 0px 1px 2px rgba(60, 64, 67, 0.3), 0px 1px 3px 1px rgba(60, 64, 67, 0.15);\n",
              "      fill: #174EA6;\n",
              "    }\n",
              "\n",
              "    [theme=dark] .colab-df-convert {\n",
              "      background-color: #3B4455;\n",
              "      fill: #D2E3FC;\n",
              "    }\n",
              "\n",
              "    [theme=dark] .colab-df-convert:hover {\n",
              "      background-color: #434B5C;\n",
              "      box-shadow: 0px 1px 3px 1px rgba(0, 0, 0, 0.15);\n",
              "      filter: drop-shadow(0px 1px 2px rgba(0, 0, 0, 0.3));\n",
              "      fill: #FFFFFF;\n",
              "    }\n",
              "  </style>\n",
              "\n",
              "      <script>\n",
              "        const buttonEl =\n",
              "          document.querySelector('#df-e62d4348-60b7-41b2-a2c6-a985cdaf0833 button.colab-df-convert');\n",
              "        buttonEl.style.display =\n",
              "          google.colab.kernel.accessAllowed ? 'block' : 'none';\n",
              "\n",
              "        async function convertToInteractive(key) {\n",
              "          const element = document.querySelector('#df-e62d4348-60b7-41b2-a2c6-a985cdaf0833');\n",
              "          const dataTable =\n",
              "            await google.colab.kernel.invokeFunction('convertToInteractive',\n",
              "                                                     [key], {});\n",
              "          if (!dataTable) return;\n",
              "\n",
              "          const docLinkHtml = 'Like what you see? Visit the ' +\n",
              "            '<a target=\"_blank\" href=https://colab.research.google.com/notebooks/data_table.ipynb>data table notebook</a>'\n",
              "            + ' to learn more about interactive tables.';\n",
              "          element.innerHTML = '';\n",
              "          dataTable['output_type'] = 'display_data';\n",
              "          await google.colab.output.renderOutput(dataTable, element);\n",
              "          const docLink = document.createElement('div');\n",
              "          docLink.innerHTML = docLinkHtml;\n",
              "          element.appendChild(docLink);\n",
              "        }\n",
              "      </script>\n",
              "    </div>\n",
              "  </div>\n",
              "  "
            ]
          },
          "metadata": {},
          "execution_count": 190
        }
      ]
    },
    {
      "cell_type": "code",
      "source": [
        "from tensorflow.keras.preprocessing.text import one_hot\n",
        "from tensorflow.keras.preprocessing.sequence import pad_sequences"
      ],
      "metadata": {
        "id": "18myTNxsPWrW"
      },
      "execution_count": 186,
      "outputs": []
    },
    {
      "cell_type": "code",
      "source": [
        "\n",
        "# ONE-HOT REPRESENTATION\n",
        "\n",
        "voc_size= 13000  ## vocabulary-size  , means how many unique words are in there\n",
        "\n",
        "onehot = [one_hot(words, voc_size) for words in train_df['clean_text']]\n",
        "  # every rows of this text data convert into numeric form"
      ],
      "metadata": {
        "id": "d0iLaqrnTBFN"
      },
      "execution_count": 188,
      "outputs": []
    },
    {
      "cell_type": "code",
      "source": [
        "onehot[0]"
      ],
      "metadata": {
        "colab": {
          "base_uri": "https://localhost:8080/"
        },
        "id": "AvQwy4n8TBG5",
        "outputId": "7a35ec2f-724a-4f77-e79e-15b115c43a9b"
      },
      "execution_count": 191,
      "outputs": [
        {
          "output_type": "execute_result",
          "data": {
            "text/plain": [
              "[4047,\n",
              " 11706,\n",
              " 3208,\n",
              " 7034,\n",
              " 8503,\n",
              " 1383,\n",
              " 3754,\n",
              " 8884,\n",
              " 1123,\n",
              " 9231,\n",
              " 4012,\n",
              " 9194,\n",
              " 8014,\n",
              " 1717,\n",
              " 8977,\n",
              " 11880,\n",
              " 4012,\n",
              " 7094,\n",
              " 1717]"
            ]
          },
          "metadata": {},
          "execution_count": 191
        }
      ]
    },
    {
      "cell_type": "code",
      "source": [
        "train_df['clean_text'][0]"
      ],
      "metadata": {
        "colab": {
          "base_uri": "https://localhost:8080/",
          "height": 36
        },
        "id": "P9RqGmnQTBK_",
        "outputId": "115dedd8-64e8-4e66-d16f-945ebe47c8d2"
      },
      "execution_count": 192,
      "outputs": [
        {
          "output_type": "execute_result",
          "data": {
            "text/plain": [
              "'pagasa am yellow warn panay island guimara negro possibl flood in low lie area amp landslid in mountain area'"
            ],
            "application/vnd.google.colaboratory.intrinsic+json": {
              "type": "string"
            }
          },
          "metadata": {},
          "execution_count": 192
        }
      ]
    },
    {
      "cell_type": "code",
      "source": [
        "## PADDING OF EACH SENTECES TO MAKE EQUAL LENGTH \n",
        "sent_length = 35  # length of each sentence\n",
        "padded_doc = pad_sequences(onehot, padding='pre', maxlen=sent_length)"
      ],
      "metadata": {
        "id": "fK5BnAZmTBNV"
      },
      "execution_count": 193,
      "outputs": []
    },
    {
      "cell_type": "code",
      "source": [
        "padded_doc[0]"
      ],
      "metadata": {
        "colab": {
          "base_uri": "https://localhost:8080/"
        },
        "id": "Zy4UCtZyTBQZ",
        "outputId": "dfe4f2b4-f118-456b-8eb6-72eaf779455d"
      },
      "execution_count": 194,
      "outputs": [
        {
          "output_type": "execute_result",
          "data": {
            "text/plain": [
              "array([    0,     0,     0,     0,     0,     0,     0,     0,     0,\n",
              "           0,     0,     0,     0,     0,     0,     0,  4047, 11706,\n",
              "        3208,  7034,  8503,  1383,  3754,  8884,  1123,  9231,  4012,\n",
              "        9194,  8014,  1717,  8977, 11880,  4012,  7094,  1717],\n",
              "      dtype=int32)"
            ]
          },
          "metadata": {},
          "execution_count": 194
        }
      ]
    },
    {
      "cell_type": "code",
      "source": [
        "##\n",
        "import numpy as np\n",
        "print(len(padded_doc))\n",
        "x_final = np.array(padded_doc)\n",
        "y = train_df['target']\n",
        "y_final = np.array(y)  # y = target\n",
        "print(x_final.shape, y_final.shape)\n",
        "\n",
        "from sklearn.model_selection import train_test_split  ## TRAIN TEST SPLIT\n",
        "x_train, x_test, y_train,y_test = train_test_split(x_final,y_final, test_size=0.15, random_state=43)"
      ],
      "metadata": {
        "colab": {
          "base_uri": "https://localhost:8080/"
        },
        "id": "HB0dner-U2aN",
        "outputId": "ad18cbee-632e-41f3-bd0b-5ff62fefbd00"
      },
      "execution_count": 197,
      "outputs": [
        {
          "output_type": "stream",
          "name": "stdout",
          "text": [
            "7613\n",
            "(7613, 35) (7613,)\n"
          ]
        }
      ]
    },
    {
      "cell_type": "code",
      "source": [
        "## CREATING MODEL\n",
        "\n",
        "import tensorflow as tf\n",
        "from tensorflow.keras.layers import Embedding, Dense, LSTM\n",
        "from tensorflow.keras.models import Sequential\n",
        "\n",
        "#embed_vector_size = 32  # each words of every sentences convert into 30 no. of dense vector\n",
        "model = Sequential()\n",
        "# EMBEDDING\n",
        "model.add(Embedding( voc_size, output_dim = 32,input_length = 35)) ## EMBEDDING LAYER\n",
        "# model.add(Dropout(0.2))\n",
        "model.add(LSTM(72))\n",
        "# model.add(Dropout(0.2))\n",
        "model.add(Dense(1, activation='sigmoid'))\n",
        "\n",
        "model.compile(loss= 'binary_crossentropy', optimizer='adam', metrics=['accuracy'])\n",
        "\n",
        "model.summary()"
      ],
      "metadata": {
        "colab": {
          "base_uri": "https://localhost:8080/"
        },
        "id": "IimGppWXU2gz",
        "outputId": "1d3726cd-a5e9-4ba6-9b47-59c6a248e3cd"
      },
      "execution_count": 204,
      "outputs": [
        {
          "output_type": "stream",
          "name": "stdout",
          "text": [
            "Model: \"sequential_7\"\n",
            "_________________________________________________________________\n",
            " Layer (type)                Output Shape              Param #   \n",
            "=================================================================\n",
            " embedding_14 (Embedding)    (None, 35, 32)            416000    \n",
            "                                                                 \n",
            " lstm_38 (LSTM)              (None, 72)                30240     \n",
            "                                                                 \n",
            " dense_55 (Dense)            (None, 1)                 73        \n",
            "                                                                 \n",
            "=================================================================\n",
            "Total params: 446,313\n",
            "Trainable params: 446,313\n",
            "Non-trainable params: 0\n",
            "_________________________________________________________________\n"
          ]
        }
      ]
    },
    {
      "cell_type": "code",
      "source": [
        "model.fit(x_train, y_train, epochs=5)"
      ],
      "metadata": {
        "colab": {
          "base_uri": "https://localhost:8080/"
        },
        "id": "j43BYnXlU2jL",
        "outputId": "006cf3f9-f83f-4fb6-8990-a0d7d806ce78"
      },
      "execution_count": 205,
      "outputs": [
        {
          "output_type": "stream",
          "name": "stdout",
          "text": [
            "Epoch 1/5\n",
            "203/203 [==============================] - 9s 31ms/step - loss: 0.5590 - accuracy: 0.7073\n",
            "Epoch 2/5\n",
            "203/203 [==============================] - 6s 30ms/step - loss: 0.3601 - accuracy: 0.8481\n",
            "Epoch 3/5\n",
            "203/203 [==============================] - 6s 31ms/step - loss: 0.2641 - accuracy: 0.8946\n",
            "Epoch 4/5\n",
            "203/203 [==============================] - 6s 30ms/step - loss: 0.2016 - accuracy: 0.9271\n",
            "Epoch 5/5\n",
            "203/203 [==============================] - 6s 31ms/step - loss: 0.1527 - accuracy: 0.9450\n"
          ]
        },
        {
          "output_type": "execute_result",
          "data": {
            "text/plain": [
              "<keras.callbacks.History at 0x7faa2b432110>"
            ]
          },
          "metadata": {},
          "execution_count": 205
        }
      ]
    },
    {
      "cell_type": "code",
      "source": [
        "model.evaluate(x_test, y_test)"
      ],
      "metadata": {
        "colab": {
          "base_uri": "https://localhost:8080/"
        },
        "id": "gKPN7nMvWpwT",
        "outputId": "deb80aef-445e-4dd2-f20e-4c73884c31b3"
      },
      "execution_count": 206,
      "outputs": [
        {
          "output_type": "stream",
          "name": "stdout",
          "text": [
            "36/36 [==============================] - 1s 9ms/step - loss: 0.6970 - accuracy: 0.7653\n"
          ]
        },
        {
          "output_type": "execute_result",
          "data": {
            "text/plain": [
              "[0.6969825029373169, 0.7653239965438843]"
            ]
          },
          "metadata": {},
          "execution_count": 206
        }
      ]
    },
    {
      "cell_type": "code",
      "source": [
        "#  BUILD TENSORFLOW MODEL TO ANOTHER WAY\n",
        "from keras import Sequential\n",
        "from keras.layers import Dense,LSTM, Embedding,GRU,  Flatten\n",
        "\n",
        "model = Sequential()\n",
        "model.add(Embedding(voc_size, 24, input_length= 35))\n",
        "model.add(layers.GRU(128,return_sequences=True, activation = 'tanh'))\n",
        "model.add(GRU(64))\n",
        "model.add(Dense(32, activation= 'relu'))\n",
        "model.add(Dense(1, activation= 'sigmoid'))\n",
        "\n",
        "model.compile(loss= 'binary_crossentropy', optimizer = 'adam', metrics= ['accuracy'])\n",
        "model.summary()"
      ],
      "metadata": {
        "colab": {
          "base_uri": "https://localhost:8080/"
        },
        "id": "0D9qYl-KLA_s",
        "outputId": "3c5c2921-d22b-44f5-f4af-b8f6bba8c82f"
      },
      "execution_count": 208,
      "outputs": [
        {
          "output_type": "stream",
          "name": "stdout",
          "text": [
            "Model: \"sequential_8\"\n",
            "_________________________________________________________________\n",
            " Layer (type)                Output Shape              Param #   \n",
            "=================================================================\n",
            " embedding_15 (Embedding)    (None, 35, 24)            312000    \n",
            "                                                                 \n",
            " gru_12 (GRU)                (None, 35, 128)           59136     \n",
            "                                                                 \n",
            " gru_13 (GRU)                (None, 64)                37248     \n",
            "                                                                 \n",
            " dense_56 (Dense)            (None, 32)                2080      \n",
            "                                                                 \n",
            " dense_57 (Dense)            (None, 1)                 33        \n",
            "                                                                 \n",
            "=================================================================\n",
            "Total params: 410,497\n",
            "Trainable params: 410,497\n",
            "Non-trainable params: 0\n",
            "_________________________________________________________________\n"
          ]
        }
      ]
    },
    {
      "cell_type": "code",
      "source": [
        "model.fit(x_train, y_train, epochs=5, validation_data= (x_test, y_test))"
      ],
      "metadata": {
        "colab": {
          "base_uri": "https://localhost:8080/"
        },
        "id": "ZzQSuc6gLBEJ",
        "outputId": "667de9a3-87c2-4f02-d2f2-9e107ca29766"
      },
      "execution_count": 209,
      "outputs": [
        {
          "output_type": "stream",
          "name": "stdout",
          "text": [
            "Epoch 1/5\n",
            "203/203 [==============================] - 20s 74ms/step - loss: 0.5440 - accuracy: 0.7183 - val_loss: 0.4321 - val_accuracy: 0.8047\n",
            "Epoch 2/5\n",
            "203/203 [==============================] - 16s 80ms/step - loss: 0.3593 - accuracy: 0.8486 - val_loss: 0.4591 - val_accuracy: 0.8004\n",
            "Epoch 3/5\n",
            "203/203 [==============================] - 14s 70ms/step - loss: 0.2622 - accuracy: 0.8979 - val_loss: 0.5696 - val_accuracy: 0.7706\n",
            "Epoch 4/5\n",
            "203/203 [==============================] - 14s 70ms/step - loss: 0.2028 - accuracy: 0.9261 - val_loss: 0.6501 - val_accuracy: 0.7706\n",
            "Epoch 5/5\n",
            "203/203 [==============================] - 16s 77ms/step - loss: 0.1581 - accuracy: 0.9439 - val_loss: 0.6569 - val_accuracy: 0.7609\n"
          ]
        },
        {
          "output_type": "execute_result",
          "data": {
            "text/plain": [
              "<keras.callbacks.History at 0x7faa30482fd0>"
            ]
          },
          "metadata": {},
          "execution_count": 209
        }
      ]
    },
    {
      "cell_type": "code",
      "source": [
        "## Evaluating and make prediction with our model\n",
        "model_pred  = model.predict(x_test)\n",
        "\n",
        "model_pred = tf.squeeze(tf.round(model_pred))\n",
        "# calculate model result\n",
        "model_results= calculate_results(y_test, model_pred)\n",
        "model_results"
      ],
      "metadata": {
        "colab": {
          "base_uri": "https://localhost:8080/"
        },
        "id": "f7--Z2ijLBGh",
        "outputId": "db28ead8-bdd3-44a8-b81c-4cdd3a9e77bd"
      },
      "execution_count": 214,
      "outputs": [
        {
          "output_type": "stream",
          "name": "stdout",
          "text": [
            "36/36 [==============================] - 1s 19ms/step\n"
          ]
        },
        {
          "output_type": "execute_result",
          "data": {
            "text/plain": [
              "{'accuracy': 76.09457092819615,\n",
              " 'precision': 0.7639355991438603,\n",
              " 'recall': 0.7609457092819615,\n",
              " 'f1': 0.7618791155004768}"
            ]
          },
          "metadata": {},
          "execution_count": 214
        }
      ]
    },
    {
      "cell_type": "code",
      "source": [],
      "metadata": {
        "id": "0iAo00MAZeIs"
      },
      "execution_count": null,
      "outputs": []
    }
  ]
}